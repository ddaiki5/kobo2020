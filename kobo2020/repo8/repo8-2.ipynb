{
  "nbformat": 4,
  "nbformat_minor": 0,
  "metadata": {
    "colab": {
      "name": "nlp6.ipynb",
      "provenance": []
    },
    "kernelspec": {
      "name": "python3",
      "display_name": "Python 3"
    },
    "accelerator": "GPU"
  },
  "cells": [
    {
      "cell_type": "code",
      "metadata": {
        "id": "Lr7TqB56IHRx",
        "colab_type": "code",
        "colab": {
          "base_uri": "https://localhost:8080/",
          "height": 105
        },
        "outputId": "cc1ee45a-d680-4ddb-efc0-01552a079f5a"
      },
      "source": [
        "import numpy as np\n",
        "import matplotlib.pyplot as plt\n",
        "\n",
        "N=2\n",
        "H=3\n",
        "T=20\n",
        "\n",
        "dh = np.ones((N, H)) #dh初期化\n",
        "print(dh)\n",
        "np.random.seed(3)\n",
        "Wh = np.random.randn(H, H) #重み初期化\n",
        "print(Wh.T) \n",
        "\n",
        "norm_list = []\n",
        "for t in range(T):\n",
        "  dh = np.dot(dh, Wh.T) #dhとWhの転置をかける\n",
        "  norm = np.sqrt(np.sum(dh**2))/ N #L2ノルム\n",
        "  norm_list.append(norm)"
      ],
      "execution_count": 2,
      "outputs": [
        {
          "output_type": "stream",
          "text": [
            "[[1. 1. 1.]\n",
            " [1. 1. 1.]]\n",
            "[[ 1.78862847 -1.8634927  -0.08274148]\n",
            " [ 0.43650985 -0.2773882  -0.62700068]\n",
            " [ 0.09649747 -0.35475898 -0.04381817]]\n"
          ],
          "name": "stdout"
        }
      ]
    },
    {
      "cell_type": "code",
      "metadata": {
        "id": "W3IL4bJMKced",
        "colab_type": "code",
        "colab": {
          "base_uri": "https://localhost:8080/",
          "height": 279
        },
        "outputId": "7b890949-a8e8-4af4-a218-40da134d0d61"
      },
      "source": [
        "x = np.arange(len(norm_list))\n",
        "plt.plot(x, norm_list, label='test')\n",
        "plt.xlabel('time step')\n",
        "plt.ylabel('norm')\n",
        "plt.show()"
      ],
      "execution_count": 3,
      "outputs": [
        {
          "output_type": "display_data",
          "data": {
            "image/png": "[encoded data removed]",
            "text/plain": [
              "<Figure size 432x288 with 1 Axes>"
            ]
          },
          "metadata": {
            "tags": [],
            "needs_background": "light"
          }
        }
      ]
    },
    {
      "cell_type": "markdown",
      "metadata": {
        "id": "t-Ti_lLbNRwl",
        "colab_type": "text"
      },
      "source": [
        "勾配が指数的に増加していることが確認できる。"
      ]
    },
    {
      "cell_type": "code",
      "metadata": {
        "id": "v3lxQa-8NNvX",
        "colab_type": "code",
        "colab": {
          "base_uri": "https://localhost:8080/",
          "height": 105
        },
        "outputId": "70bfde63-e3c1-4ec7-dc5b-4cae60548fbd"
      },
      "source": [
        "import numpy as np\n",
        "import matplotlib.pyplot as plt\n",
        "\n",
        "N=2\n",
        "H=3\n",
        "T=20\n",
        "\n",
        "dh = np.ones((N, H)) #dh初期化\n",
        "print(dh)\n",
        "np.random.seed(3)\n",
        "Wh = np.random.randn(H, H)*0.5 #重み初期化\n",
        "print(Wh.T) \n",
        "\n",
        "norm_list = []\n",
        "for t in range(T):\n",
        "  dh = np.dot(dh, Wh.T) #dhとWhの転置をかける\n",
        "  norm = np.sqrt(np.sum(dh**2))/ N #L2ノルム\n",
        "  norm_list.append(norm)"
      ],
      "execution_count": 4,
      "outputs": [
        {
          "output_type": "stream",
          "text": [
            "[[1. 1. 1.]\n",
            " [1. 1. 1.]]\n",
            "[[ 0.89431424 -0.93174635 -0.04137074]\n",
            " [ 0.21825493 -0.1386941  -0.31350034]\n",
            " [ 0.04824873 -0.17737949 -0.02190908]]\n"
          ],
          "name": "stdout"
        }
      ]
    },
    {
      "cell_type": "code",
      "metadata": {
        "id": "owvEn6niNm2T",
        "colab_type": "code",
        "colab": {
          "base_uri": "https://localhost:8080/",
          "height": 279
        },
        "outputId": "41561221-72b2-4c61-b6bf-82f5a2c17074"
      },
      "source": [
        "x = np.arange(len(norm_list))\n",
        "plt.plot(x, norm_list, label='test')\n",
        "plt.xlabel('time step')\n",
        "plt.ylabel('norm')\n",
        "plt.show()"
      ],
      "execution_count": 5,
      "outputs": [
        {
          "output_type": "display_data",
          "data": {
            "image/png": "[encoded data removed]",
            "text/plain": [
              "<Figure size 432x288 with 1 Axes>"
            ]
          },
          "metadata": {
            "tags": [],
            "needs_background": "light"
          }
        }
      ]
    },
    {
      "cell_type": "markdown",
      "metadata": {
        "id": "neOh3ThQNvis",
        "colab_type": "text"
      },
      "source": [
        "指数的に減少していることが確認できる"
      ]
    },
    {
      "cell_type": "markdown",
      "metadata": {
        "id": "LK6PHCt-OXcI",
        "colab_type": "text"
      },
      "source": [
        "勾配クリッピングの実装"
      ]
    },
    {
      "cell_type": "code",
      "metadata": {
        "id": "pFZOx_moNtmO",
        "colab_type": "code",
        "colab": {}
      },
      "source": [
        "def clip_grads(grads, max_norm):\n",
        "  total_norm = 0\n",
        "  for grad in grads:\n",
        "    total_norm += np.sum(grad**2)\n",
        "  total_norm = np.sqrt(total_norm)\n",
        "\n",
        "  rate = max_norm / (total_norm + 1e-6)\n",
        "  if rate < 1:\n",
        "    for grad in grads:\n",
        "      grad *= rate"
      ],
      "execution_count": 6,
      "outputs": []
    },
    {
      "cell_type": "code",
      "metadata": {
        "id": "oOHw8ZT2PU0n",
        "colab_type": "code",
        "colab": {
          "base_uri": "https://localhost:8080/",
          "height": 193
        },
        "outputId": "a5b4741f-e908-4ae0-e1ab-e1f97ab2e36e"
      },
      "source": [
        "import numpy as np\n",
        "\n",
        "dW1 = np.random.rand(3, 3) * 10\n",
        "dW2 = np.random.rand(3, 3) * 10\n",
        "grads = [dW1, dW2]\n",
        "print(grads)\n",
        "max_norm = 5.0\n",
        "\n",
        "clip_grads(grads, max_norm)\n",
        "print(grads)"
      ],
      "execution_count": 7,
      "outputs": [
        {
          "output_type": "stream",
          "text": [
            "[array([[6.49144048, 2.78487283, 6.76254902],\n",
            "       [5.90862817, 0.23981882, 5.58854088],\n",
            "       [2.59252447, 4.15101197, 2.83525082]]), array([[6.93137918, 4.40453718, 1.56867738],\n",
            "       [5.44649018, 7.80314765, 3.06363532],\n",
            "       [2.21957884, 3.87971258, 9.3638365 ]])]\n",
            "[array([[1.49503731, 0.64138134, 1.55747605],\n",
            "       [1.36081038, 0.05523244, 1.28709139],\n",
            "       [0.59708178, 0.95601551, 0.65298384]]), array([[1.59635916, 1.01440465, 0.36128056],\n",
            "       [1.25437583, 1.79713531, 0.70558286],\n",
            "       [0.51118903, 0.89353281, 2.15657603]])]\n"
          ],
          "name": "stdout"
        }
      ]
    },
    {
      "cell_type": "markdown",
      "metadata": {
        "id": "2jQ9QHSDU8ed",
        "colab_type": "text"
      },
      "source": [
        "LSTMクラスの実装"
      ]
    },
    {
      "cell_type": "code",
      "metadata": {
        "id": "CO-_Jp-FaiU3",
        "colab_type": "code",
        "colab": {}
      },
      "source": [
        "class LSTM:\n",
        "  def __init__(self, Wx, Wh, b):\n",
        "    self.params = [Wx, Wh, b]\n",
        "    self.grads = [np.zeros_like(Wx), np.zeros_like(Wh), np.zeros_like(b)]\n",
        "    self.cache = None\n",
        "\n",
        "  def forward(self, x, h_prev, c_prev):\n",
        "    Wx, Wh, b = self.params\n",
        "    N, H = h_prev.shape\n",
        "    A = np.dot(x, Wx) + np.dot(h_prev, Wh) + b\n",
        "    f = A[:, :H]\n",
        "    g = A[:, H:2*H]\n",
        "    i = A[:, 2*H:3*H]\n",
        "    o = A[:, 3*H:]\n",
        "    f = sigmoid(f)\n",
        "    g = np.tanh(g)\n",
        "    i = sigmoid(i)\n",
        "    o = sigmoid(o)\n",
        "    c_next = f*c_prev + g*i\n",
        "    h_next = o*np.tanh(c_next)\n",
        "    self.cache = o*np.tanh(c_next)\n",
        "    self.cache = (x, h_prev, c_prev, i, f, g, o, c_next)\n",
        "    return h_next, c_next"
      ],
      "execution_count": 1,
      "outputs": []
    },
    {
      "cell_type": "markdown",
      "metadata": {
        "id": "zFpc3ITFU_0V",
        "colab_type": "text"
      },
      "source": [
        "TimeLSTMクラスの実装"
      ]
    },
    {
      "cell_type": "code",
      "metadata": {
        "id": "tsrmVVIxPqWt",
        "colab_type": "code",
        "colab": {}
      },
      "source": [
        "class TimeLSTM:\n",
        "  def __init__(self, Wx, Wh, b, stateful=False):\n",
        "    self.params = [Wx, Wh, b]\n",
        "    self.grads = [np.zeros_like(Wx), np.zeros_like(Wh), np.zeros_like(b)]\n",
        "    self.layers = None\n",
        "    self.h, self.c = None, None\n",
        "    self.dh = None\n",
        "    self.stateful = stateful\n",
        "\n",
        "  def forward(self, xs):\n",
        "    Wx, Wh, b = self.params\n",
        "    N, T, D = xs.shape\n",
        "    H = Wh.shape[0]\n",
        "    self.layers = []\n",
        "    hs = np.empty((N, T, H), dtype='f')\n",
        "    if not self.stateful or self.h is None:\n",
        "      self.h = np.zeros((N, H), dtype='f')\n",
        "    if not self.stateful or self.c in None:\n",
        "      self.c = np.zeros((N, H), dtype='f')\n",
        "\n",
        "    for t in range(T):\n",
        "      layer = LSTM(*self.params)\n",
        "      self.h, self.c = layer.forward(xs[:, t, :], self.h, self.c)\n",
        "      hs[:, t, :] = self.h\n",
        "      self.layers.append(layer)\n",
        "    return hs\n",
        "\n",
        "  def backward(self, dhs):\n",
        "    Wx, Wh, b = self.params\n",
        "    N, T, H = dhs.shape\n",
        "    D = Wx.shape[0]\n",
        "    dxs = np.empty((N, T, D), dtype='f')\n",
        "    dh, dc = 0, 0\n",
        "    grads = [0, 0, 0]\n",
        "    for t in reversed(range(T)):\n",
        "      layer = self.layers[t]\n",
        "      dx, dh, dc = layer.backward(dhs[:, t, :]+dh, dc)\n",
        "      dxs[:, t, :] = dx\n",
        "      for i, grad in enumerate(layer.grads):\n",
        "        grads[i] += grad\n",
        "    for i, grad in enumerate(grads):\n",
        "      self.grads[i][...] = grad\n",
        "      self.dh = dh\n",
        "      return dxs\n",
        "    \n",
        "  def set_state(self, h, c=None):\n",
        "    self.h, self.c = h, c\n",
        "  \n",
        "  def reset_state(self):\n",
        "    self.h, self.c = None, None"
      ],
      "execution_count": 2,
      "outputs": []
    },
    {
      "cell_type": "code",
      "metadata": {
        "id": "fj9uoYVNRxi_",
        "colab_type": "code",
        "colab": {
          "base_uri": "https://localhost:8080/",
          "height": 34
        },
        "outputId": "8534d010-87d2-4f86-edec-2c555a4160df"
      },
      "source": [
        "from google.colab import drive\n",
        "drive.mount('/content/drive')\n",
        "dir_path = '/content/drive/My Drive/Colab Notebooks'\n",
        "import os\n",
        "os.chdir(dir_path)"
      ],
      "execution_count": 3,
      "outputs": [
        {
          "output_type": "stream",
          "text": [
            "Drive already mounted at /content/drive; to attempt to forcibly remount, call drive.mount(\"/content/drive\", force_remount=True).\n"
          ],
          "name": "stdout"
        }
      ]
    },
    {
      "cell_type": "code",
      "metadata": {
        "id": "kskitsiMc5y5",
        "colab_type": "code",
        "colab": {}
      },
      "source": [
        "from common.time_layers import *\n",
        "import pickle"
      ],
      "execution_count": 4,
      "outputs": []
    },
    {
      "cell_type": "code",
      "metadata": {
        "id": "2-fO3XFsdJJR",
        "colab_type": "code",
        "colab": {}
      },
      "source": [
        "class Rnnlm:\n",
        "  def __init__(self, vocab_size=10000, wordvec_size=100, hidden_size=100):\n",
        "    V, D, H = vocab_size, wordvec_size, hidden_size\n",
        "    rn = np.random.rand\n",
        "\n",
        "    embed_W = (rn(V, D) / 100).astype('f')\n",
        "    lstm_Wx = (rn(D, H*4)/np.sqrt(D)).astype('f')\n",
        "    lstm_Wh = (rn(H, 4*H)/np.sqrt(H)).astype('f')\n",
        "    lstm_b = np.zeros(4*H).astype('f')\n",
        "    affine_W = (rn(H, V)/np.sqrt(H)).astype('f')\n",
        "    affine_b = np.zeros(V).astype('f')\n",
        "\n",
        "    self.layers = [\n",
        "        TimeEmbedding(embed_W),\n",
        "        TimeLSTM(lstm_Wx, lstm_Wh, lstm_b, stateful=True),\n",
        "        TimeAffine(affine_W, affine_b)\n",
        "    ]\n",
        "    self.loss_layer = TimeSoftmaxWithLoss()\n",
        "    self.lstm_layer = self.layers[1]\n",
        "\n",
        "    self.params, self.grads = [], []\n",
        "    for layer in self.layers:\n",
        "      self.params += layer.params\n",
        "      self.grads += layer.grads\n",
        "  \n",
        "  def predict(self, xs):\n",
        "    for layer in self.layers:\n",
        "      xs = layer.forward(xs)\n",
        "    return xs\n",
        "\n",
        "  def forward(self, xs, ts):\n",
        "    score = self.predict(xs)\n",
        "    loss = self.loss_layer.forward(score, ts)\n",
        "    return loss\n",
        "\n",
        "  def backward(self, dout=1):\n",
        "    dout = self.loss_layer.backward(dout)\n",
        "    for layer in reversed(self.layers):\n",
        "      dout =  layer.backward(dout)\n",
        "    return dout\n",
        "  \n",
        "  def reset_state(self):\n",
        "    self.lstm_layer.reset_state()\n",
        "\n",
        "  def save_params(self, file_name='Rnnlm.pkl'):\n",
        "    with open(file_name, 'wb') as f:\n",
        "      pickle.dump(self.params, f)\n",
        "\n",
        "  def load_params(self, file_name='Rnnlm.pkl'):\n",
        "    with open(file_name, 'rb') as f:\n",
        "      self.params = pickle.load(f) "
      ],
      "execution_count": 5,
      "outputs": []
    },
    {
      "cell_type": "markdown",
      "metadata": {
        "id": "fbeSCfE0VtPn",
        "colab_type": "text"
      },
      "source": [
        "学習"
      ]
    },
    {
      "cell_type": "code",
      "metadata": {
        "id": "NgkqkJ_ZgHZU",
        "colab_type": "code",
        "colab": {}
      },
      "source": [
        "from common.optimizer import SGD\n",
        "from common.trainer import RnnlmTrainer\n",
        "from common.util import eval_perplexity\n",
        "from dataset import ptb"
      ],
      "execution_count": 17,
      "outputs": []
    },
    {
      "cell_type": "code",
      "metadata": {
        "id": "C3A_Av2Mgcsk",
        "colab_type": "code",
        "colab": {
          "base_uri": "https://localhost:8080/",
          "height": 1000
        },
        "outputId": "e5fc39e1-5244-4062-b47c-032a3739bfd9"
      },
      "source": [
        "#パラメータ設定\n",
        "batch_size = 20\n",
        "wordvec_size = 100\n",
        "hidden_size = 100\n",
        "time_size = 35\n",
        "lr = 20.0\n",
        "max_epoch = 4\n",
        "max_grad = 0.25\n",
        "#データ読み込み\n",
        "corpus, word_to_id, id_to_word = ptb.load_data('train')\n",
        "corpus_test, _, _ = ptb.load_data('test')\n",
        "vocab_size = len(word_to_id)\n",
        "xs = corpus[:-1]\n",
        "ts = corpus[1:]\n",
        "#モデル生成\n",
        "model = Rnnlm(vocab_size, wordvec_size, hidden_size)\n",
        "optimizer = SGD(lr)\n",
        "trainer = RnnlmTrainer(model, optimizer)\n",
        "#勾配クリッピング適用　学習\n",
        "trainer.fit(xs, ts, max_epoch, batch_size, time_size, max_grad, eval_interval=20)\n",
        "trainer.plot(ylim=(0, 500))\n",
        "#評価\n",
        "model.reset_state()\n",
        "ppl_test = eval_perplexity(model, corpus_test)\n",
        "print('test perplexity: ', ppl_test)\n",
        "#保存\n",
        "model.save_params()"
      ],
      "execution_count": 18,
      "outputs": [
        {
          "output_type": "stream",
          "text": [
            "| epoch 1 |  iter 1 / 1327 | time 0[s] | perplexity 10340.84\n",
            "| epoch 1 |  iter 21 / 1327 | time 6[s] | perplexity 288630.76\n",
            "| epoch 1 |  iter 41 / 1327 | time 13[s] | perplexity 1617.89\n",
            "| epoch 1 |  iter 61 / 1327 | time 19[s] | perplexity 1138.13\n",
            "| epoch 1 |  iter 81 / 1327 | time 26[s] | perplexity 960.79\n",
            "| epoch 1 |  iter 101 / 1327 | time 32[s] | perplexity 770.68\n",
            "| epoch 1 |  iter 121 / 1327 | time 39[s] | perplexity 813.09\n",
            "| epoch 1 |  iter 141 / 1327 | time 45[s] | perplexity 748.10\n",
            "| epoch 1 |  iter 161 / 1327 | time 52[s] | perplexity 707.79\n",
            "| epoch 1 |  iter 181 / 1327 | time 58[s] | perplexity 705.23\n",
            "| epoch 1 |  iter 201 / 1327 | time 65[s] | perplexity 629.66\n",
            "| epoch 1 |  iter 221 / 1327 | time 71[s] | perplexity 618.24\n",
            "| epoch 1 |  iter 241 / 1327 | time 78[s] | perplexity 555.78\n",
            "| epoch 1 |  iter 261 / 1327 | time 84[s] | perplexity 600.29\n",
            "| epoch 1 |  iter 281 / 1327 | time 91[s] | perplexity 582.64\n",
            "| epoch 1 |  iter 301 / 1327 | time 97[s] | perplexity 494.90\n",
            "| epoch 1 |  iter 321 / 1327 | time 103[s] | perplexity 474.23\n",
            "| epoch 1 |  iter 341 / 1327 | time 110[s] | perplexity 502.04\n",
            "| epoch 1 |  iter 361 / 1327 | time 116[s] | perplexity 518.39\n",
            "| epoch 1 |  iter 381 / 1327 | time 123[s] | perplexity 448.12\n",
            "| epoch 1 |  iter 401 / 1327 | time 129[s] | perplexity 455.26\n",
            "| epoch 1 |  iter 421 / 1327 | time 135[s] | perplexity 458.55\n",
            "| epoch 1 |  iter 441 / 1327 | time 142[s] | perplexity 418.52\n",
            "| epoch 1 |  iter 461 / 1327 | time 148[s] | perplexity 422.58\n",
            "| epoch 1 |  iter 481 / 1327 | time 155[s] | perplexity 401.89\n",
            "| epoch 1 |  iter 501 / 1327 | time 161[s] | perplexity 404.41\n",
            "| epoch 1 |  iter 521 / 1327 | time 168[s] | perplexity 377.06\n",
            "| epoch 1 |  iter 541 / 1327 | time 174[s] | perplexity 408.47\n",
            "| epoch 1 |  iter 561 / 1327 | time 180[s] | perplexity 366.92\n",
            "| epoch 1 |  iter 581 / 1327 | time 187[s] | perplexity 338.56\n",
            "| epoch 1 |  iter 601 / 1327 | time 193[s] | perplexity 424.43\n",
            "| epoch 1 |  iter 621 / 1327 | time 200[s] | perplexity 389.55\n",
            "| epoch 1 |  iter 641 / 1327 | time 206[s] | perplexity 351.23\n",
            "| epoch 1 |  iter 661 / 1327 | time 213[s] | perplexity 344.34\n",
            "| epoch 1 |  iter 681 / 1327 | time 219[s] | perplexity 301.83\n",
            "| epoch 1 |  iter 701 / 1327 | time 226[s] | perplexity 310.11\n",
            "| epoch 1 |  iter 721 / 1327 | time 232[s] | perplexity 324.53\n",
            "| epoch 1 |  iter 741 / 1327 | time 238[s] | perplexity 281.81\n",
            "| epoch 1 |  iter 761 / 1327 | time 245[s] | perplexity 303.38\n",
            "| epoch 1 |  iter 781 / 1327 | time 251[s] | perplexity 279.37\n",
            "| epoch 1 |  iter 801 / 1327 | time 257[s] | perplexity 306.64\n",
            "| epoch 1 |  iter 821 / 1327 | time 264[s] | perplexity 276.59\n",
            "| epoch 1 |  iter 841 / 1327 | time 270[s] | perplexity 289.35\n",
            "| epoch 1 |  iter 861 / 1327 | time 277[s] | perplexity 280.23\n",
            "| epoch 1 |  iter 881 / 1327 | time 283[s] | perplexity 261.09\n",
            "| epoch 1 |  iter 901 / 1327 | time 290[s] | perplexity 308.84\n",
            "| epoch 1 |  iter 921 / 1327 | time 296[s] | perplexity 280.34\n",
            "| epoch 1 |  iter 941 / 1327 | time 303[s] | perplexity 285.92\n",
            "| epoch 1 |  iter 961 / 1327 | time 309[s] | perplexity 302.66\n",
            "| epoch 1 |  iter 981 / 1327 | time 315[s] | perplexity 282.57\n",
            "| epoch 1 |  iter 1001 / 1327 | time 322[s] | perplexity 239.92\n",
            "| epoch 1 |  iter 1021 / 1327 | time 328[s] | perplexity 276.55\n",
            "| epoch 1 |  iter 1041 / 1327 | time 334[s] | perplexity 262.15\n",
            "| epoch 1 |  iter 1061 / 1327 | time 341[s] | perplexity 244.95\n",
            "| epoch 1 |  iter 1081 / 1327 | time 347[s] | perplexity 213.97\n",
            "| epoch 1 |  iter 1101 / 1327 | time 354[s] | perplexity 248.42\n",
            "| epoch 1 |  iter 1121 / 1327 | time 360[s] | perplexity 280.22\n",
            "| epoch 1 |  iter 1141 / 1327 | time 366[s] | perplexity 258.43\n",
            "| epoch 1 |  iter 1161 / 1327 | time 373[s] | perplexity 250.27\n",
            "| epoch 1 |  iter 1181 / 1327 | time 379[s] | perplexity 231.98\n",
            "| epoch 1 |  iter 1201 / 1327 | time 386[s] | perplexity 200.15\n",
            "| epoch 1 |  iter 1221 / 1327 | time 392[s] | perplexity 199.43\n",
            "| epoch 1 |  iter 1241 / 1327 | time 398[s] | perplexity 238.74\n",
            "| epoch 1 |  iter 1261 / 1327 | time 405[s] | perplexity 212.49\n",
            "| epoch 1 |  iter 1281 / 1327 | time 411[s] | perplexity 219.40\n",
            "| epoch 1 |  iter 1301 / 1327 | time 417[s] | perplexity 267.64\n",
            "| epoch 1 |  iter 1321 / 1327 | time 424[s] | perplexity 252.00\n",
            "| epoch 2 |  iter 1 / 1327 | time 426[s] | perplexity 271.02\n",
            "| epoch 2 |  iter 21 / 1327 | time 432[s] | perplexity 250.33\n",
            "| epoch 2 |  iter 41 / 1327 | time 439[s] | perplexity 232.68\n",
            "| epoch 2 |  iter 61 / 1327 | time 445[s] | perplexity 215.92\n",
            "| epoch 2 |  iter 81 / 1327 | time 452[s] | perplexity 195.79\n",
            "| epoch 2 |  iter 101 / 1327 | time 458[s] | perplexity 190.22\n",
            "| epoch 2 |  iter 121 / 1327 | time 465[s] | perplexity 196.64\n",
            "| epoch 2 |  iter 141 / 1327 | time 471[s] | perplexity 218.78\n",
            "| epoch 2 |  iter 161 / 1327 | time 478[s] | perplexity 232.63\n",
            "| epoch 2 |  iter 181 / 1327 | time 484[s] | perplexity 243.99\n",
            "| epoch 2 |  iter 201 / 1327 | time 490[s] | perplexity 225.14\n",
            "| epoch 2 |  iter 221 / 1327 | time 497[s] | perplexity 224.08\n",
            "| epoch 2 |  iter 241 / 1327 | time 503[s] | perplexity 213.79\n",
            "| epoch 2 |  iter 261 / 1327 | time 509[s] | perplexity 224.69\n",
            "| epoch 2 |  iter 281 / 1327 | time 516[s] | perplexity 228.16\n",
            "| epoch 2 |  iter 301 / 1327 | time 522[s] | perplexity 204.28\n",
            "| epoch 2 |  iter 321 / 1327 | time 528[s] | perplexity 176.96\n",
            "| epoch 2 |  iter 341 / 1327 | time 535[s] | perplexity 212.64\n",
            "| epoch 2 |  iter 361 / 1327 | time 541[s] | perplexity 242.24\n",
            "| epoch 2 |  iter 381 / 1327 | time 548[s] | perplexity 190.06\n",
            "| epoch 2 |  iter 401 / 1327 | time 554[s] | perplexity 206.21\n",
            "| epoch 2 |  iter 421 / 1327 | time 560[s] | perplexity 199.04\n",
            "| epoch 2 |  iter 441 / 1327 | time 567[s] | perplexity 203.32\n",
            "| epoch 2 |  iter 461 / 1327 | time 573[s] | perplexity 197.79\n",
            "| epoch 2 |  iter 481 / 1327 | time 579[s] | perplexity 195.04\n",
            "| epoch 2 |  iter 501 / 1327 | time 586[s] | perplexity 208.59\n",
            "| epoch 2 |  iter 521 / 1327 | time 592[s] | perplexity 206.42\n",
            "| epoch 2 |  iter 541 / 1327 | time 599[s] | perplexity 211.05\n",
            "| epoch 2 |  iter 561 / 1327 | time 605[s] | perplexity 193.25\n",
            "| epoch 2 |  iter 581 / 1327 | time 611[s] | perplexity 174.27\n",
            "| epoch 2 |  iter 601 / 1327 | time 618[s] | perplexity 233.51\n",
            "| epoch 2 |  iter 621 / 1327 | time 624[s] | perplexity 221.33\n",
            "| epoch 2 |  iter 641 / 1327 | time 630[s] | perplexity 203.96\n",
            "| epoch 2 |  iter 661 / 1327 | time 637[s] | perplexity 188.84\n",
            "| epoch 2 |  iter 681 / 1327 | time 643[s] | perplexity 161.39\n",
            "| epoch 2 |  iter 701 / 1327 | time 649[s] | perplexity 182.81\n",
            "| epoch 2 |  iter 721 / 1327 | time 656[s] | perplexity 193.84\n",
            "| epoch 2 |  iter 741 / 1327 | time 662[s] | perplexity 162.96\n",
            "| epoch 2 |  iter 761 / 1327 | time 668[s] | perplexity 164.02\n",
            "| epoch 2 |  iter 781 / 1327 | time 675[s] | perplexity 163.78\n",
            "| epoch 2 |  iter 801 / 1327 | time 681[s] | perplexity 181.53\n",
            "| epoch 2 |  iter 821 / 1327 | time 687[s] | perplexity 173.39\n",
            "| epoch 2 |  iter 841 / 1327 | time 694[s] | perplexity 175.23\n",
            "| epoch 2 |  iter 861 / 1327 | time 700[s] | perplexity 177.26\n",
            "| epoch 2 |  iter 881 / 1327 | time 706[s] | perplexity 158.73\n",
            "| epoch 2 |  iter 901 / 1327 | time 712[s] | perplexity 198.48\n",
            "| epoch 2 |  iter 921 / 1327 | time 719[s] | perplexity 179.41\n",
            "| epoch 2 |  iter 941 / 1327 | time 725[s] | perplexity 185.32\n",
            "| epoch 2 |  iter 961 / 1327 | time 731[s] | perplexity 198.57\n",
            "| epoch 2 |  iter 981 / 1327 | time 737[s] | perplexity 184.34\n",
            "| epoch 2 |  iter 1001 / 1327 | time 744[s] | perplexity 157.08\n",
            "| epoch 2 |  iter 1021 / 1327 | time 750[s] | perplexity 184.62\n",
            "| epoch 2 |  iter 1041 / 1327 | time 756[s] | perplexity 173.85\n",
            "| epoch 2 |  iter 1061 / 1327 | time 762[s] | perplexity 155.55\n",
            "| epoch 2 |  iter 1081 / 1327 | time 769[s] | perplexity 136.37\n",
            "| epoch 2 |  iter 1101 / 1327 | time 775[s] | perplexity 152.82\n",
            "| epoch 2 |  iter 1121 / 1327 | time 781[s] | perplexity 188.52\n",
            "| epoch 2 |  iter 1141 / 1327 | time 787[s] | perplexity 171.19\n",
            "| epoch 2 |  iter 1161 / 1327 | time 794[s] | perplexity 165.37\n",
            "| epoch 2 |  iter 1181 / 1327 | time 800[s] | perplexity 160.27\n",
            "| epoch 2 |  iter 1201 / 1327 | time 806[s] | perplexity 135.15\n",
            "| epoch 2 |  iter 1221 / 1327 | time 812[s] | perplexity 133.28\n",
            "| epoch 2 |  iter 1241 / 1327 | time 819[s] | perplexity 157.41\n",
            "| epoch 2 |  iter 1261 / 1327 | time 825[s] | perplexity 147.11\n",
            "| epoch 2 |  iter 1281 / 1327 | time 831[s] | perplexity 148.75\n",
            "| epoch 2 |  iter 1301 / 1327 | time 838[s] | perplexity 188.42\n",
            "| epoch 2 |  iter 1321 / 1327 | time 844[s] | perplexity 180.91\n",
            "| epoch 3 |  iter 1 / 1327 | time 846[s] | perplexity 189.45\n",
            "| epoch 3 |  iter 21 / 1327 | time 852[s] | perplexity 173.96\n",
            "| epoch 3 |  iter 41 / 1327 | time 859[s] | perplexity 165.77\n",
            "| epoch 3 |  iter 61 / 1327 | time 865[s] | perplexity 153.53\n",
            "| epoch 3 |  iter 81 / 1327 | time 871[s] | perplexity 139.78\n",
            "| epoch 3 |  iter 101 / 1327 | time 878[s] | perplexity 130.39\n",
            "| epoch 3 |  iter 121 / 1327 | time 884[s] | perplexity 140.41\n",
            "| epoch 3 |  iter 141 / 1327 | time 891[s] | perplexity 152.61\n",
            "| epoch 3 |  iter 161 / 1327 | time 897[s] | perplexity 168.77\n",
            "| epoch 3 |  iter 181 / 1327 | time 904[s] | perplexity 178.38\n",
            "| epoch 3 |  iter 201 / 1327 | time 910[s] | perplexity 167.04\n",
            "| epoch 3 |  iter 221 / 1327 | time 916[s] | perplexity 165.35\n",
            "| epoch 3 |  iter 241 / 1327 | time 923[s] | perplexity 158.94\n",
            "| epoch 3 |  iter 261 / 1327 | time 929[s] | perplexity 164.27\n",
            "| epoch 3 |  iter 281 / 1327 | time 935[s] | perplexity 169.82\n",
            "| epoch 3 |  iter 301 / 1327 | time 942[s] | perplexity 151.72\n",
            "| epoch 3 |  iter 321 / 1327 | time 948[s] | perplexity 128.38\n",
            "| epoch 3 |  iter 341 / 1327 | time 954[s] | perplexity 149.52\n",
            "| epoch 3 |  iter 361 / 1327 | time 960[s] | perplexity 182.31\n",
            "| epoch 3 |  iter 381 / 1327 | time 967[s] | perplexity 138.33\n",
            "| epoch 3 |  iter 401 / 1327 | time 973[s] | perplexity 156.69\n",
            "| epoch 3 |  iter 421 / 1327 | time 979[s] | perplexity 142.16\n",
            "| epoch 3 |  iter 441 / 1327 | time 985[s] | perplexity 149.03\n",
            "| epoch 3 |  iter 461 / 1327 | time 992[s] | perplexity 146.40\n",
            "| epoch 3 |  iter 481 / 1327 | time 998[s] | perplexity 145.03\n",
            "| epoch 3 |  iter 501 / 1327 | time 1004[s] | perplexity 154.99\n",
            "| epoch 3 |  iter 521 / 1327 | time 1010[s] | perplexity 162.98\n",
            "| epoch 3 |  iter 541 / 1327 | time 1017[s] | perplexity 162.53\n",
            "| epoch 3 |  iter 561 / 1327 | time 1023[s] | perplexity 145.08\n",
            "| epoch 3 |  iter 581 / 1327 | time 1029[s] | perplexity 129.98\n",
            "| epoch 3 |  iter 601 / 1327 | time 1036[s] | perplexity 179.40\n",
            "| epoch 3 |  iter 621 / 1327 | time 1042[s] | perplexity 170.44\n",
            "| epoch 3 |  iter 641 / 1327 | time 1048[s] | perplexity 156.12\n",
            "| epoch 3 |  iter 661 / 1327 | time 1054[s] | perplexity 145.64\n",
            "| epoch 3 |  iter 681 / 1327 | time 1061[s] | perplexity 119.47\n",
            "| epoch 3 |  iter 701 / 1327 | time 1067[s] | perplexity 141.01\n",
            "| epoch 3 |  iter 721 / 1327 | time 1073[s] | perplexity 151.09\n",
            "| epoch 3 |  iter 741 / 1327 | time 1079[s] | perplexity 127.79\n",
            "| epoch 3 |  iter 761 / 1327 | time 1086[s] | perplexity 129.60\n",
            "| epoch 3 |  iter 781 / 1327 | time 1092[s] | perplexity 126.58\n",
            "| epoch 3 |  iter 801 / 1327 | time 1098[s] | perplexity 139.78\n",
            "| epoch 3 |  iter 821 / 1327 | time 1105[s] | perplexity 137.34\n",
            "| epoch 3 |  iter 841 / 1327 | time 1111[s] | perplexity 136.51\n",
            "| epoch 3 |  iter 861 / 1327 | time 1117[s] | perplexity 142.66\n",
            "| epoch 3 |  iter 881 / 1327 | time 1123[s] | perplexity 126.27\n",
            "| epoch 3 |  iter 901 / 1327 | time 1130[s] | perplexity 155.95\n",
            "| epoch 3 |  iter 921 / 1327 | time 1136[s] | perplexity 142.37\n",
            "| epoch 3 |  iter 941 / 1327 | time 1142[s] | perplexity 150.02\n",
            "| epoch 3 |  iter 961 / 1327 | time 1148[s] | perplexity 157.65\n",
            "| epoch 3 |  iter 981 / 1327 | time 1154[s] | perplexity 146.01\n",
            "| epoch 3 |  iter 1001 / 1327 | time 1161[s] | perplexity 128.29\n",
            "| epoch 3 |  iter 1021 / 1327 | time 1167[s] | perplexity 149.18\n",
            "| epoch 3 |  iter 1041 / 1327 | time 1173[s] | perplexity 142.36\n",
            "| epoch 3 |  iter 1061 / 1327 | time 1179[s] | perplexity 122.54\n",
            "| epoch 3 |  iter 1081 / 1327 | time 1186[s] | perplexity 107.63\n",
            "| epoch 3 |  iter 1101 / 1327 | time 1192[s] | perplexity 116.79\n",
            "| epoch 3 |  iter 1121 / 1327 | time 1198[s] | perplexity 146.37\n",
            "| epoch 3 |  iter 1141 / 1327 | time 1205[s] | perplexity 137.54\n",
            "| epoch 3 |  iter 1161 / 1327 | time 1211[s] | perplexity 130.84\n",
            "| epoch 3 |  iter 1181 / 1327 | time 1217[s] | perplexity 129.99\n",
            "| epoch 3 |  iter 1201 / 1327 | time 1223[s] | perplexity 111.42\n",
            "| epoch 3 |  iter 1221 / 1327 | time 1230[s] | perplexity 105.23\n",
            "| epoch 3 |  iter 1241 / 1327 | time 1236[s] | perplexity 125.25\n",
            "| epoch 3 |  iter 1261 / 1327 | time 1242[s] | perplexity 122.24\n",
            "| epoch 3 |  iter 1281 / 1327 | time 1248[s] | perplexity 119.01\n",
            "| epoch 3 |  iter 1301 / 1327 | time 1255[s] | perplexity 153.95\n",
            "| epoch 3 |  iter 1321 / 1327 | time 1261[s] | perplexity 148.86\n",
            "| epoch 4 |  iter 1 / 1327 | time 1263[s] | perplexity 153.70\n",
            "| epoch 4 |  iter 21 / 1327 | time 1269[s] | perplexity 145.14\n",
            "| epoch 4 |  iter 41 / 1327 | time 1276[s] | perplexity 129.93\n",
            "| epoch 4 |  iter 61 / 1327 | time 1282[s] | perplexity 128.73\n",
            "| epoch 4 |  iter 81 / 1327 | time 1288[s] | perplexity 113.30\n",
            "| epoch 4 |  iter 101 / 1327 | time 1294[s] | perplexity 104.82\n",
            "| epoch 4 |  iter 121 / 1327 | time 1301[s] | perplexity 114.10\n",
            "| epoch 4 |  iter 141 / 1327 | time 1307[s] | perplexity 122.76\n",
            "| epoch 4 |  iter 161 / 1327 | time 1313[s] | perplexity 137.25\n",
            "| epoch 4 |  iter 181 / 1327 | time 1319[s] | perplexity 150.49\n",
            "| epoch 4 |  iter 201 / 1327 | time 1325[s] | perplexity 139.59\n",
            "| epoch 4 |  iter 221 / 1327 | time 1332[s] | perplexity 140.75\n",
            "| epoch 4 |  iter 241 / 1327 | time 1338[s] | perplexity 132.95\n",
            "| epoch 4 |  iter 261 / 1327 | time 1344[s] | perplexity 134.56\n",
            "| epoch 4 |  iter 281 / 1327 | time 1350[s] | perplexity 142.67\n",
            "| epoch 4 |  iter 301 / 1327 | time 1357[s] | perplexity 126.39\n",
            "| epoch 4 |  iter 321 / 1327 | time 1363[s] | perplexity 104.24\n",
            "| epoch 4 |  iter 341 / 1327 | time 1369[s] | perplexity 119.49\n",
            "| epoch 4 |  iter 361 / 1327 | time 1376[s] | perplexity 152.36\n",
            "| epoch 4 |  iter 381 / 1327 | time 1382[s] | perplexity 115.63\n",
            "| epoch 4 |  iter 401 / 1327 | time 1388[s] | perplexity 131.38\n",
            "| epoch 4 |  iter 421 / 1327 | time 1394[s] | perplexity 113.81\n",
            "| epoch 4 |  iter 441 / 1327 | time 1400[s] | perplexity 122.70\n",
            "| epoch 4 |  iter 461 / 1327 | time 1407[s] | perplexity 121.37\n",
            "| epoch 4 |  iter 481 / 1327 | time 1413[s] | perplexity 123.21\n",
            "| epoch 4 |  iter 501 / 1327 | time 1419[s] | perplexity 128.90\n",
            "| epoch 4 |  iter 521 / 1327 | time 1425[s] | perplexity 135.68\n",
            "| epoch 4 |  iter 541 / 1327 | time 1432[s] | perplexity 133.89\n",
            "| epoch 4 |  iter 561 / 1327 | time 1438[s] | perplexity 124.20\n",
            "| epoch 4 |  iter 581 / 1327 | time 1444[s] | perplexity 107.66\n",
            "| epoch 4 |  iter 601 / 1327 | time 1450[s] | perplexity 151.33\n",
            "| epoch 4 |  iter 621 / 1327 | time 1457[s] | perplexity 143.41\n",
            "| epoch 4 |  iter 641 / 1327 | time 1463[s] | perplexity 131.65\n",
            "| epoch 4 |  iter 661 / 1327 | time 1470[s] | perplexity 121.48\n",
            "| epoch 4 |  iter 681 / 1327 | time 1476[s] | perplexity 99.88\n",
            "| epoch 4 |  iter 701 / 1327 | time 1482[s] | perplexity 118.78\n",
            "| epoch 4 |  iter 721 / 1327 | time 1488[s] | perplexity 128.12\n",
            "| epoch 4 |  iter 741 / 1327 | time 1495[s] | perplexity 111.57\n",
            "| epoch 4 |  iter 761 / 1327 | time 1501[s] | perplexity 107.75\n",
            "| epoch 4 |  iter 781 / 1327 | time 1507[s] | perplexity 105.40\n",
            "| epoch 4 |  iter 801 / 1327 | time 1514[s] | perplexity 116.57\n",
            "| epoch 4 |  iter 821 / 1327 | time 1520[s] | perplexity 117.91\n",
            "| epoch 4 |  iter 841 / 1327 | time 1526[s] | perplexity 116.94\n",
            "| epoch 4 |  iter 861 / 1327 | time 1533[s] | perplexity 123.14\n",
            "| epoch 4 |  iter 881 / 1327 | time 1539[s] | perplexity 106.63\n",
            "| epoch 4 |  iter 901 / 1327 | time 1545[s] | perplexity 135.92\n",
            "| epoch 4 |  iter 921 / 1327 | time 1551[s] | perplexity 121.71\n",
            "| epoch 4 |  iter 941 / 1327 | time 1558[s] | perplexity 131.09\n",
            "| epoch 4 |  iter 961 / 1327 | time 1564[s] | perplexity 132.82\n",
            "| epoch 4 |  iter 981 / 1327 | time 1570[s] | perplexity 125.01\n",
            "| epoch 4 |  iter 1001 / 1327 | time 1576[s] | perplexity 113.30\n",
            "| epoch 4 |  iter 1021 / 1327 | time 1583[s] | perplexity 130.11\n",
            "| epoch 4 |  iter 1041 / 1327 | time 1589[s] | perplexity 123.41\n",
            "| epoch 4 |  iter 1061 / 1327 | time 1595[s] | perplexity 105.46\n",
            "| epoch 4 |  iter 1081 / 1327 | time 1601[s] | perplexity 93.60\n",
            "| epoch 4 |  iter 1101 / 1327 | time 1608[s] | perplexity 95.95\n",
            "| epoch 4 |  iter 1121 / 1327 | time 1614[s] | perplexity 122.37\n",
            "| epoch 4 |  iter 1141 / 1327 | time 1620[s] | perplexity 119.04\n",
            "| epoch 4 |  iter 1161 / 1327 | time 1626[s] | perplexity 110.89\n",
            "| epoch 4 |  iter 1181 / 1327 | time 1632[s] | perplexity 110.79\n",
            "| epoch 4 |  iter 1201 / 1327 | time 1639[s] | perplexity 98.38\n",
            "| epoch 4 |  iter 1221 / 1327 | time 1645[s] | perplexity 88.99\n",
            "| epoch 4 |  iter 1241 / 1327 | time 1651[s] | perplexity 107.25\n",
            "| epoch 4 |  iter 1261 / 1327 | time 1657[s] | perplexity 108.97\n",
            "| epoch 4 |  iter 1281 / 1327 | time 1664[s] | perplexity 103.68\n",
            "| epoch 4 |  iter 1301 / 1327 | time 1670[s] | perplexity 131.44\n",
            "| epoch 4 |  iter 1321 / 1327 | time 1676[s] | perplexity 128.65\n"
          ],
          "name": "stdout"
        },
        {
          "output_type": "display_data",
          "data": {
            "image/png": "[encoded data removed]",
            "text/plain": [
              "<Figure size 432x288 with 1 Axes>"
            ]
          },
          "metadata": {
            "tags": [],
            "needs_background": "light"
          }
        },
        {
          "output_type": "stream",
          "text": [
            "evaluating perplexity ...\n",
            "234 / 235\n",
            "test perplexity:  144.78990098811042\n"
          ],
          "name": "stdout"
        }
      ]
    },
    {
      "cell_type": "markdown",
      "metadata": {
        "id": "5XgB0p2WVPks",
        "colab_type": "text"
      },
      "source": [
        "改良したRnnlmクラスの実装"
      ]
    },
    {
      "cell_type": "code",
      "metadata": {
        "id": "HeFUqVY9h-vM",
        "colab_type": "code",
        "colab": {}
      },
      "source": [
        "from common.time_layers import *\n",
        "from common.base_model import BaseModel\n",
        "\n",
        "class BetterRnnlm(BaseModel):\n",
        "  def __init__(self, vocab_size=10000, wordvec_size=650, hidden_size=650, dropout_ratio=0.5):\n",
        "    V, D, H = vocab_size, wordvec_size, hidden_size\n",
        "    rn = np.random.randn\n",
        "\n",
        "    embed_W = (rn(V, D)/100).astype('f')\n",
        "    lstm_Wx1 = (rn(D, 4*H)/np.sqrt(D)).astype('f')\n",
        "    lstm_Wh1 = (rn(H, 4*H)/np.sqrt(H)).astype('f')\n",
        "    lstm_b1 = np.zeros(4*H).astype('f')\n",
        "    lstm_Wx2 = (rn(H, 4*H)/np.sqrt(H)).astype('f')\n",
        "    lstm_Wh2 = (rn(H, 4*H)/np.sqrt(H)).astype('f')\n",
        "    lstm_b2 = np.zeros(4*H).astype('f')\n",
        "    affine_b = np.zeros(V).astype('f')\n",
        "\n",
        "    self.layers = [\n",
        "        TimeEmbedding(embed_W),\n",
        "        TimeDropout(dropout_ratio),\n",
        "        TimeLSTM(lstm_Wx1, lstm_Wh1, lstm_b1, stateful=True),\n",
        "        TimeDropout(dropout_ratio),\n",
        "        TimeLSTM(lstm_Wx2, lstm_Wh2, lstm_b2, stateful=True),\n",
        "        TimeDropout(dropout_ratio),\n",
        "        TimeAffine(embed_W.T, affine_b)\n",
        "    ]\n",
        "    self.loss_layer = TimeSoftmaxWithLoss()\n",
        "    self.lstm_layers = [self.layers[2], self.layers[4]]\n",
        "    self.drop_layers = [self.layers[1], self.layers[3], self.layers[5]]\n",
        "    self.params, self.grads = [], []\n",
        "    for layer in self.layers:\n",
        "      self.params += layer.params\n",
        "      self.grads += layer.grads\n",
        "    \n",
        "  def predict(self, xs, train_flg=False):\n",
        "    for layer in self.drop_layers:\n",
        "      layer.train_flg = train_flg\n",
        "    for layer in self.layers:\n",
        "      xs = layer.forward(xs)\n",
        "    return xs\n",
        "\n",
        "  def forward(self, xs, ts, train_flg=True):\n",
        "    score = self.predict(xs, train_flg)\n",
        "    loss = self.loss_layer.forward(score, ts)\n",
        "    return loss\n",
        "\n",
        "  def backward(self, dout=1):\n",
        "    dout = self.loss_layer.backward(dout)\n",
        "    for layer in reversed(self.layers):\n",
        "      dout = layer.backward(dout)\n",
        "    return dout\n",
        "\n",
        "  def reset_state(self):\n",
        "    for layer in self.lstm_layers:\n",
        "      layer.reset_state()"
      ],
      "execution_count": 6,
      "outputs": []
    }
  ]
}