{
  "nbformat": 4,
  "nbformat_minor": 0,
  "metadata": {
    "colab": {
      "name": "Untitled6.ipynb",
      "provenance": []
    },
    "kernelspec": {
      "name": "python3",
      "display_name": "Python 3"
    }
  },
  "cells": [
    {
      "cell_type": "code",
      "metadata": {
        "id": "gDCVfoDBmQBK",
        "colab_type": "code",
        "colab": {
          "base_uri": "https://localhost:8080/",
          "height": 125
        },
        "outputId": "cb26f10b-2624-48ee-c47a-cbe6726c0db6"
      },
      "source": [
        "from google.colab import drive\n",
        "drive.mount('/content/drive')\n",
        "dir_path = '/content/drive/My Drive/Colab Notebooks'\n",
        "import os\n",
        "os.chdir(dir_path)"
      ],
      "execution_count": null,
      "outputs": [
        {
          "output_type": "stream",
          "text": [
            "Go to this URL in a browser: https://accounts.google.com/o/oauth2/auth?client_id=947318989803-6bn6qk8qdgf4n4g3pfee6491hc0brc4i.apps.googleusercontent.com&redirect_uri=urn%3aietf%3awg%3aoauth%3a2.0%3aoob&response_type=code&scope=email%20https%3a%2f%2fwww.googleapis.com%2fauth%2fdocs.test%20https%3a%2f%2fwww.googleapis.com%2fauth%2fdrive%20https%3a%2f%2fwww.googleapis.com%2fauth%2fdrive.photos.readonly%20https%3a%2f%2fwww.googleapis.com%2fauth%2fpeopleapi.readonly\n",
            "\n",
            "Enter your authorization code:\n",
            "··········\n",
            "Mounted at /content/drive\n"
          ],
          "name": "stdout"
        }
      ]
    },
    {
      "cell_type": "markdown",
      "metadata": {
        "id": "A0u3M3MTbi1l",
        "colab_type": "text"
      },
      "source": [
        "70"
      ]
    },
    {
      "cell_type": "code",
      "metadata": {
        "id": "KGTqhOkDqnSA",
        "colab_type": "code",
        "colab": {
          "base_uri": "https://localhost:8080/",
          "height": 72
        },
        "outputId": "8aac345f-2040-46c2-bf25-35e610710f94"
      },
      "source": [
        "import gensim\n",
        "import re\n",
        "import torch\n",
        "import numpy as np\n",
        "\n",
        "w2v_path = 'GoogleNews-vectors-negative300.bin (1).gz'\n",
        "data_path = 'report8/data70/'\n",
        "\n",
        "w2v_model = gensim.models.KeyedVectors.load_word2vec_format(w2v_path , binary=True)\n",
        "\n",
        "category2num = {\"b\": 0, \"t\": 1, \"e\": 2, \"m\": 3}"
      ],
      "execution_count": null,
      "outputs": [
        {
          "output_type": "stream",
          "text": [
            "/usr/local/lib/python3.6/dist-packages/smart_open/smart_open_lib.py:254: UserWarning: This function is deprecated, use smart_open.open instead. See the migration notes for details: https://github.com/RaRe-Technologies/smart_open/blob/master/README.rst#migrating-to-the-new-open-function\n",
            "  'See the migration notes for details: %s' % _MIGRATION_NOTES_URL\n"
          ],
          "name": "stderr"
        }
      ]
    },
    {
      "cell_type": "code",
      "metadata": {
        "id": "-SKwH0hCoeM1",
        "colab_type": "code",
        "colab": {}
      },
      "source": [
        "# タイトルを受け取り，単語ベクトルの平均を返す関数\n",
        "def get_feature(title):\n",
        "    word_list = title.split(' ')#todo タイトルをスペースで分割\n",
        "    vec_list = []\n",
        "    for word in word_list:\n",
        "        try:\n",
        "            vec = w2v_model[word]#todo wordを意味するベクトルを取得\n",
        "        except KeyError:\n",
        "            vec = np.zeros(300)#todo すべての要素が0のベクトルを代入\n",
        "        vec_list.append(vec)    \n",
        "    vec_np = np.array(vec_list) # numpyのarrayに変換\n",
        "    feature = np.sum(vec_np)/len(vec_np)# 平均ベクトルを計算\n",
        "    return feature\n",
        "\n",
        "\n",
        "def get_data(fname):\n",
        "    label_list = []\n",
        "    feature_list = []\n",
        "    with open(fname, encoding=\"utf8\") as f:\n",
        "        for line in f:\n",
        "            if not line:\n",
        "                continue\n",
        "            data = line.split('\\t')\n",
        "            title = data[1]#todo dataからタイトルを取り出す\n",
        "            feature = get_feature(title) \n",
        "            feature_list.append(feature)\n",
        "            label = category2num[data[0]]\n",
        "            label_list.append(label)\n",
        "\n",
        "    features = torch.tensor(feature_list)#todo feature_listをtensorに変換\n",
        "    labels = torch.tensor(label_list)#todo label_listをtensorに変換\n",
        "    return features, labels\n",
        "\n",
        "\n",
        "train_x, train_y = get_data(data_path + \"train.txt\")\n",
        "valid_x, valid_y = get_data(data_path + \"valid.txt\")\n",
        "test_x, test_y = get_data(data_path + \"test.txt\")\n",
        "\n",
        "# 保存\n",
        "torch.save(train_x, data_path + \"train_x.pt\")\n",
        "torch.save(train_y, data_path + \"train_y.pt\")\n",
        "torch.save(valid_x, data_path + \"valid_x.pt\")\n",
        "torch.save(valid_y, data_path + \"valid_y.pt\")\n",
        "torch.save(test_x, data_path + \"test_x.pt\")\n",
        "torch.save(test_y, data_path + \"test_y.pt\")\n"
      ],
      "execution_count": null,
      "outputs": []
    },
    {
      "cell_type": "code",
      "metadata": {
        "id": "4apR0UUNLuZK",
        "colab_type": "code",
        "colab": {}
      },
      "source": [
        ""
      ],
      "execution_count": null,
      "outputs": []
    }
  ]
}