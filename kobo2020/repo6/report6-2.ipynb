{
  "nbformat": 4,
  "nbformat_minor": 0,
  "metadata": {
    "colab": {
      "name": "Untitled1.ipynb",
      "provenance": []
    },
    "kernelspec": {
      "name": "python3",
      "display_name": "Python 3"
    }
  },
  "cells": [
    {
      "cell_type": "code",
      "metadata": {
        "id": "EfCyCtSAXSdf",
        "colab_type": "code",
        "colab": {
          "base_uri": "https://localhost:8080/",
          "height": 125
        },
        "outputId": "cc4150bc-a70f-474e-b279-6cf6e9340144"
      },
      "source": [
        "from google.colab import drive\n",
        "drive.mount('/content/drive')\n",
        "dir_path = '/content/drive/My Drive/Colab Notebooks/ch04/'\n",
        "import os\n",
        "os.chdir(dir_path)"
      ],
      "execution_count": 1,
      "outputs": [
        {
          "output_type": "stream",
          "text": [
            "Go to this URL in a browser: https://accounts.google.com/o/oauth2/auth?client_id=947318989803-6bn6qk8qdgf4n4g3pfee6491hc0brc4i.apps.googleusercontent.com&redirect_uri=urn%3aietf%3awg%3aoauth%3a2.0%3aoob&response_type=code&scope=email%20https%3a%2f%2fwww.googleapis.com%2fauth%2fdocs.test%20https%3a%2f%2fwww.googleapis.com%2fauth%2fdrive%20https%3a%2f%2fwww.googleapis.com%2fauth%2fdrive.photos.readonly%20https%3a%2f%2fwww.googleapis.com%2fauth%2fpeopleapi.readonly\n",
            "\n",
            "Enter your authorization code:\n",
            "··········\n",
            "Mounted at /content/drive\n"
          ],
          "name": "stdout"
        }
      ]
    },
    {
      "cell_type": "code",
      "metadata": {
        "id": "ZG-pl1w8XXTN",
        "colab_type": "code",
        "colab": {
          "base_uri": "https://localhost:8080/",
          "height": 510
        },
        "outputId": "5eeb9b42-a3fa-43e4-ccfe-a28130d325c8"
      },
      "source": [
        "import sys\n",
        "sys.path.append('..')\n",
        "from common.util import most_similar, analogy\n",
        "import pickle\n",
        "pkl_file = 'cbow_params.pkl'\n",
        "with open(pkl_file, 'rb') as f:\n",
        "    params = pickle.load(f)\n",
        "    word_vecs = params['word_vecs']\n",
        "    word_to_id = params['word_to_id']\n",
        "    id_to_word = params['id_to_word']\n",
        "querys = ['you', 'year', 'car', 'toyota']\n",
        "for query in querys:\n",
        "    most_similar(query, word_to_id, id_to_word, word_vecs, top=5)"
      ],
      "execution_count": 2,
      "outputs": [
        {
          "output_type": "stream",
          "text": [
            "\n",
            "[query] you\n",
            " we: 0.7236328125\n",
            " i: 0.6337890625\n",
            " your: 0.60791015625\n",
            " they: 0.60400390625\n",
            " anything: 0.59130859375\n",
            "\n",
            "[query] year\n",
            " month: 0.8408203125\n",
            " summer: 0.76171875\n",
            " week: 0.75439453125\n",
            " spring: 0.7392578125\n",
            " decade: 0.67041015625\n",
            "\n",
            "[query] car\n",
            " luxury: 0.6611328125\n",
            " window: 0.61181640625\n",
            " cars: 0.60302734375\n",
            " truck: 0.60107421875\n",
            " auto: 0.59814453125\n",
            "\n",
            "[query] toyota\n",
            " seita: 0.65283203125\n",
            " engines: 0.63330078125\n",
            " weyerhaeuser: 0.63134765625\n",
            " f-14: 0.62548828125\n",
            " marathon: 0.61865234375\n"
          ],
          "name": "stdout"
        }
      ]
    },
    {
      "cell_type": "code",
      "metadata": {
        "id": "UzUwB2GZZv_D",
        "colab_type": "code",
        "colab": {
          "base_uri": "https://localhost:8080/",
          "height": 510
        },
        "outputId": "61ab78d9-2070-4c4e-f381-2ba15581839b"
      },
      "source": [
        "with open(pkl_file, 'rb') as f:\n",
        "    params = pickle.load(f)\n",
        "    word_vecs = params['word_vecs']\n",
        "    word_to_id = params['word_to_id']\n",
        "    id_to_word = params['id_to_word']\n",
        "querys = ['this', 'is', 'vehicle', 'child']\n",
        "for query in querys:\n",
        "    most_similar(query, word_to_id, id_to_word, word_vecs, top=5)"
      ],
      "execution_count": 5,
      "outputs": [
        {
          "output_type": "stream",
          "text": [
            "\n",
            "[query] this\n",
            " last: 0.69677734375\n",
            " next: 0.5830078125\n",
            " every: 0.421142578125\n",
            " altogether: 0.4033203125\n",
            " busiest: 0.39794921875\n",
            "\n",
            "[query] is\n",
            " makes: 0.59716796875\n",
            " are: 0.59619140625\n",
            " remains: 0.55859375\n",
            " seems: 0.55615234375\n",
            " was: 0.55029296875\n",
            "\n",
            "[query] vehicle\n",
            " marketing: 0.58203125\n",
            " car: 0.55078125\n",
            " nickel: 0.537109375\n",
            " start-up: 0.52880859375\n",
            " restrain: 0.52685546875\n",
            "\n",
            "[query] child\n",
            " woman: 0.70556640625\n",
            " hat: 0.6982421875\n",
            " job: 0.6865234375\n",
            " lawn: 0.662109375\n",
            " recital: 0.65283203125\n"
          ],
          "name": "stdout"
        }
      ]
    },
    {
      "cell_type": "markdown",
      "metadata": {
        "id": "jc1hhfHLYm4a",
        "colab_type": "text"
      },
      "source": [
        "人間が見ても十分類似していると思える単語が並んでいるものもあれば、類似していないものもある。一回目に実行した方は比較的類似しているが、二回目に実行した方がis以外はあまり類似していない。訓練データが増えれば、もしくはネットワークを深くすれば精度は改善すると考えられる。"
      ]
    },
    {
      "cell_type": "code",
      "metadata": {
        "id": "mXnLrUquY44l",
        "colab_type": "code",
        "colab": {
          "base_uri": "https://localhost:8080/",
          "height": 510
        },
        "outputId": "267e71f7-be19-44c3-a1d7-9281078e2de6"
      },
      "source": [
        "analogy('king', 'man', 'queen',  word_to_id, id_to_word, word_vecs)\n",
        "analogy('take', 'took', 'go',  word_to_id, id_to_word, word_vecs)\n",
        "analogy('car', 'cars', 'child',  word_to_id, id_to_word, word_vecs)\n",
        "analogy('good', 'better', 'bad',  word_to_id, id_to_word, word_vecs)"
      ],
      "execution_count": 3,
      "outputs": [
        {
          "output_type": "stream",
          "text": [
            "\n",
            "[analogy] king:man = queen:?\n",
            " woman: 5.18359375\n",
            " husband: 4.80859375\n",
            " toxin: 4.7578125\n",
            " cubans: 4.71875\n",
            " naczelnik: 4.6796875\n",
            "\n",
            "[analogy] take:took = go:?\n",
            " eurodollars: 5.3203125\n",
            " came: 4.50390625\n",
            " went: 4.40625\n",
            " 're: 4.26953125\n",
            " were: 4.05078125\n",
            "\n",
            "[analogy] car:cars = child:?\n",
            " a.m: 6.2890625\n",
            " rape: 5.875\n",
            " children: 5.29296875\n",
            " incest: 4.984375\n",
            " bond-equivalent: 4.6015625\n",
            "\n",
            "[analogy] good:better = bad:?\n",
            " less: 5.99609375\n",
            " more: 5.91796875\n",
            " rather: 5.7734375\n",
            " greater: 4.80078125\n",
            " worse: 4.01953125\n"
          ],
          "name": "stdout"
        }
      ]
    },
    {
      "cell_type": "code",
      "metadata": {
        "id": "th6ahZfeZB6q",
        "colab_type": "code",
        "colab": {
          "base_uri": "https://localhost:8080/",
          "height": 527
        },
        "outputId": "91d47a68-6cc3-4690-8bcf-d96c3c690626"
      },
      "source": [
        "analogy('go', 'went', 'have',  word_to_id, id_to_word, word_vecs)\n",
        "analogy('were', 'are', 'was',  word_to_id, id_to_word, word_vecs)\n",
        "analogy('right', 'left', 'up',  word_to_id, id_to_word, word_vecs)\n",
        "analogy('good', 'bestr', 'bad',  word_to_id, id_to_word, word_vecs)\n",
        "analogy('high', 'low', 'expensive',  word_to_id, id_to_word, word_vecs)"
      ],
      "execution_count": 6,
      "outputs": [
        {
          "output_type": "stream",
          "text": [
            "\n",
            "[analogy] go:went = have:?\n",
            " has: 9.0859375\n",
            " had: 7.76953125\n",
            " 've: 7.20703125\n",
            " were: 4.3359375\n",
            " owns: 3.66796875\n",
            "\n",
            "[analogy] were:are = was:?\n",
            " is: 8.078125\n",
            " 're: 4.6640625\n",
            " makes: 4.4453125\n",
            " 'm: 4.38671875\n",
            " does: 4.32421875\n",
            "\n",
            "[analogy] right:left = up:?\n",
            " eurodollars: 6.078125\n",
            " multiples: 3.89453125\n",
            " compared: 3.84375\n",
            " down: 3.443359375\n",
            " charged: 2.9375\n",
            "bestr is not found\n",
            "\n",
            "[analogy] high:low = expensive:?\n",
            " prebon: 4.8671875\n",
            " u.s.a: 4.21484375\n",
            " a.m: 4.19140625\n",
            " than: 3.814453125\n",
            " ounce: 3.578125\n"
          ],
          "name": "stdout"
        }
      ]
    },
    {
      "cell_type": "markdown",
      "metadata": {
        "id": "YyLGKgt3cX3K",
        "colab_type": "text"
      },
      "source": [
        "動詞の現在形、過去形や意味的なつながりがある程度学習できていると言える。しかし、expensiveのようにおそらく学習データに単語がなかった場合反対を答えることができない。"
      ]
    },
    {
      "cell_type": "markdown",
      "metadata": {
        "id": "k-C-HiekdHV0",
        "colab_type": "text"
      },
      "source": [
        "感想  \n",
        "三章の方が理解できたが、四章の方はまだ完全に理解できたとは言えないので、しっかりと復習したい。単語を類推するのは楽しいので、データを増やすと汎用性が増して、もっと面白くなると思った。GPUを使っても思っていたより学習に時間がかかったので、次は時間に余裕を持って課題を進めたい。"
      ]
    },
    {
      "cell_type": "markdown",
      "metadata": {
        "id": "fUOSOSnXeH6x",
        "colab_type": "text"
      },
      "source": [
        "参考文献  \n",
        "ゼロから始めるDeepLearning2 「改良版word2vecの学習」"
      ]
    }
  ]
}