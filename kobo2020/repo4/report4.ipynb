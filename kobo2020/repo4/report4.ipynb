{
 "cells": [
  {
   "cell_type": "markdown",
   "metadata": {},
   "source": [
    "SoftmaxWithLossの実装"
   ]
  },
  {
   "cell_type": "code",
   "execution_count": 25,
   "metadata": {},
   "outputs": [],
   "source": [
    "import numpy as np\n",
    "def cross_entropy_error(y, t):\n",
    "    if y.ndim == 1:\n",
    "        t = t.reshape(1, t.size) #1行t.size列\n",
    "        y = y.reshape(1, y.size) #\n",
    "    # 教師データがone-hot-vectorの場合、正解ラベルのインデックスに変換\n",
    "    if t.size == y.size:\n",
    "        t = t.argmax(axis=1) #配列の最大値を返す（初期値１）\n",
    "    batch_size = y.shape[0]\n",
    "    return -np.sum(np.log(y[np.arange(batch_size), t])) / batch_size"
   ]
  },
  {
   "cell_type": "code",
   "execution_count": 114,
   "metadata": {},
   "outputs": [
    {
     "data": {
      "text/plain": [
       "array([23], dtype=int64)"
      ]
     },
     "execution_count": 114,
     "metadata": {},
     "output_type": "execute_result"
    }
   ],
   "source": [
    "t=np.arange(24)\n",
    "t=t.reshape(1, t.size)\n",
    "t.argmax(axis=1)"
   ]
  },
  {
   "cell_type": "code",
   "execution_count": 75,
   "metadata": {
    "scrolled": true
   },
   "outputs": [
    {
     "name": "stdout",
     "output_type": "stream",
     "text": [
      "[0.62842225 0.91300991 0.03639882]\n",
      "[0.75411841 0.80120044 0.13741429]\n"
     ]
    },
    {
     "data": {
      "text/plain": [
       "0.0910085412473834"
      ]
     },
     "execution_count": 75,
     "metadata": {},
     "output_type": "execute_result"
    }
   ],
   "source": [
    "y=np.random.rand(3)\n",
    "print(y)\n",
    "t=np.random.rand(3)\n",
    "print(t)\n",
    "cross_entropy_error(y, t)"
   ]
  },
  {
   "cell_type": "code",
   "execution_count": 26,
   "metadata": {},
   "outputs": [],
   "source": [
    "class SoftmaxWithLoss:\n",
    "    def __init__(self):\n",
    "        self.loss = None\n",
    "        self.y = None # softmaxの出力\n",
    "        self.t = None # 教師データ\n",
    "    def forward(self, x, t):\n",
    "        self.t = t\n",
    "        self.y = softmax(x)\n",
    "        # forwardの式\n",
    "        # -sum ( t * log (y))\n",
    "        self.loss = cross_entropy_error(self.y, self.t)\n",
    "        return self.loss\n",
    "    def backward(self, dout=1):\n",
    "        # backwardの式\n",
    "        # yi - ti (iはIndex)\n",
    "        batch_size = self.t.shape[0]\n",
    "        # Backwardを実装して、微分値をdxに代入してください\n",
    "        dx = (self.y - self.t) / batch_size\n",
    "        return dx"
   ]
  },
  {
   "cell_type": "code",
   "execution_count": 123,
   "metadata": {},
   "outputs": [
    {
     "name": "stdout",
     "output_type": "stream",
     "text": [
      "x:[0.99138533 0.66484835 0.63108212 0.01787804 0.09188582]\n",
      "t:[0 0 0 1 0]\n",
      "loss:2.137723632313804\n",
      "back:[ 0.06243344  0.04504059  0.04354513 -0.17641541  0.02539625]\n"
     ]
    }
   ],
   "source": [
    "x = np.random.rand(5)\n",
    "print(\"x:{}\".format(x))\n",
    "t = np.array([0, 0, 0, 1, 0])\n",
    "print(\"t:{}\".format(t))\n",
    "softmaxWithLoss = SoftmaxWithLoss()\n",
    "loss =softmaxWithLoss.forward(x, t)\n",
    "back =softmaxWithLoss.backward(dout=1)\n",
    "print(\"loss:{}\".format(loss))\n",
    "print(\"back:{}\".format(back))"
   ]
  },
  {
   "cell_type": "markdown",
   "metadata": {},
   "source": [
    "x:[0.37755491 0.47594813 0.31718526 0.71806849 0.20038926]\\\n",
    "t:[0 0 0 1 0]\\\n",
    "loss:1.3249498588423212\\\n",
    "back:[ 0.0378206   0.04173112  0.03560494 -0.14683674  0.03168009]\\\n",
    "x:[0.99138533 0.66484835 0.63108212 0.01787804 0.09188582]\\\n",
    "t:[0 0 0 1 0]\\\n",
    "loss:2.137723632313804\\\n",
    "back:[ 0.06243344  0.04504059  0.04354513 -0.17641541  0.02539625]\\\n",
    "\n",
    "一回目は二回目に比べて入力値が教師データに近いため、誤差が小さいことを確認できる。"
   ]
  },
  {
   "cell_type": "markdown",
   "metadata": {},
   "source": [
    "同様にReluとAffineレイヤーも実装する"
   ]
  },
  {
   "cell_type": "code",
   "execution_count": 30,
   "metadata": {},
   "outputs": [],
   "source": [
    "class Relu:\n",
    "    def __init__(self):\n",
    "        self.mask = None\n",
    "    def forward(self, x):\n",
    "        self.mask = (x <= 0)\n",
    "        out = x.copy()\n",
    "        out[self.mask] = 0\n",
    "        return out\n",
    "    def backward(self, dout):\n",
    "        dout[self.mask] = 0\n",
    "        dx = dout\n",
    "        return dx"
   ]
  },
  {
   "cell_type": "code",
   "execution_count": 56,
   "metadata": {},
   "outputs": [],
   "source": [
    "class Affine:\n",
    "    def __init__(self, W, b):\n",
    "        self.W =W\n",
    "        self.b = b\n",
    "        self.x = None\n",
    "        self.original_x_shape = None\n",
    "        # 重み・バイアスパラメータの微分\n",
    "        self.dW = None\n",
    "        self.db = None\n",
    "    def forward(self, x):\n",
    "        # テンソル対応\n",
    "        self.original_x_shape = x.shape\n",
    "        x = x.reshape(x.shape[0], -1)\n",
    "        self.x = x\n",
    "        out = np.dot(self.x, self.W) + self.b\n",
    "        return out\n",
    "    def backward(self, dout):\n",
    "        dx = np.dot(dout, self.W.T)\n",
    "        self.dW = np.dot(self.x.T, dout)\n",
    "        self.db = np.sum(dout, axis=0)\n",
    "        dx = dx.reshape(*self.original_x_shape)  # 入力データの形状に戻す（テンソル対応）\n",
    "        return dx"
   ]
  },
  {
   "cell_type": "markdown",
   "metadata": {},
   "source": [
    "two layer netにおける勾配の確認"
   ]
  },
  {
   "cell_type": "code",
   "execution_count": 58,
   "metadata": {},
   "outputs": [],
   "source": [
    "def gradient(network, x, t):\n",
    "    # 自分で実装したSoftmax with lossクラスを使ってみてください\n",
    "    #lastLayer = SoftmaxWithLoss()\n",
    "    lastLayer = network.lastLayer\n",
    "    # forward\n",
    "    #self.loss(x, t)\n",
    "    network.loss(x, t)\n",
    "    # backward\n",
    "    dout = 1\n",
    "    dout = lastLayer.backward(dout)\n",
    "    #layers = list(self.layers.values())\n",
    "    layers = list(network.layers.values())\n",
    "    layers.reverse()\n",
    "    for layer in layers:\n",
    "        dout = layer.backward(dout)\n",
    "    # 設定\n",
    "    grads = {}\n",
    "    #grads['W1'], grads['b1'] = self.layers['Affine1'].dW, self.layers['Affine1'].db\n",
    "    grads['W1'], grads['b1'] = network.layers['Affine1'].dW, network.layers['Affine1'].db\n",
    "    #grads['W2'], grads['b2'] = self.layers['Affine2'].dW, self.layers['Affine2'].db\n",
    "    grads['W2'], grads['b2'] = network.layers['Affine2'].dW, network.layers['Affine2'].db\n",
    "    return grads\n"
   ]
  },
  {
   "cell_type": "code",
   "execution_count": 61,
   "metadata": {},
   "outputs": [],
   "source": [
    "import sys, os\n",
    "sys.path.append(os.pardir)  # 親ディレクトリのファイルをインポートするための設定\n",
    "from common.functions import *\n",
    "from common.gradient import numerical_gradient\n",
    "import numpy as np\n",
    "from collections import OrderedDict\n",
    "\n",
    "class TwoLayerNet:\n",
    "    \n",
    "    def __init__(self, input_size, hidden_size, output_size, weight_init_std = 0.01):\n",
    "       # 重みの初期化\n",
    "        self.params = {}\n",
    "        self.params['W1'] = weight_init_std * np.random.randn(input_size, hidden_size)\n",
    "        self.params['b1'] = np.zeros(hidden_size)\n",
    "        self.params['W2'] = weight_init_std * np.random.randn(hidden_size, output_size) \n",
    "        self.params['b2'] = np.zeros(output_size)\n",
    "        # レイヤの生成\n",
    "        self.layers = OrderedDict()\n",
    "        self.layers['Affine1'] = Affine(self.params['W1'], self.params['b1'])\n",
    "        self.layers['Relu1'] = Relu()\n",
    "        self.layers['Affine2'] = Affine(self.params['W2'], self.params['b2'])\n",
    "        self.lastLayer = SoftmaxWithLoss()        \n",
    "    def predict(self, x):\n",
    "        for layer in self.layers.values():\n",
    "            x = layer.forward(x)\n",
    "        return x\n",
    "   # x:入力データ, t:教師データ\n",
    "    def loss(self, x, t):\n",
    "        y = self.predict(x)\n",
    "        return self.lastLayer.forward(y, t)\n",
    "    def numerical_gradient(self, x, t):\n",
    "        loss_W = lambda W: self.loss(x, t)\n",
    "        grads = {}\n",
    "        grads['W1'] = numerical_grad(loss_W, self.params['W1'])\n",
    "        grads['b1'] = numerical_grad(loss_W, self.params['b1'])\n",
    "        grads['W2'] = numerical_grad(loss_W, self.params['W2'])\n",
    "        grads['b2'] = nume\n",
    "class TwoLayerNet:\n",
    "    def __init__(self, input_size, hidden_size, output_size, weight_init_std = 0.01):\n",
    "        # 重みの初期化\n",
    "        self.params = {}\n",
    "        self.params['W1'] = weight_init_std * np.random.randn(input_size, hidden_size)\n",
    "        self.params['b1'] = np.zeros(hidden_size)\n",
    "        self.params['W2'] = weight_init_std * np.random.randn(hidden_size, output_size) \n",
    "        self.params['b2'] = np.zeros(output_size)\n",
    "        # レイヤの生成\n",
    "        self.layers = OrderedDict()\n",
    "        self.layers['Affine1'] = Affine(self.params['W1'], self.params['b1'])\n",
    "        self.layers['Relu1'] = Relu()\n",
    "        self.layers['Affine2'] = Affine(self.params['W2'], self.params['b2'])\n",
    "        self.lastLayer = SoftmaxWithLoss()        \n",
    "    def predict(self, x):\n",
    "        for layer in self.layers.values():\n",
    "            x = layer.forward(x)\n",
    "        return x\n",
    "    # x:入力データ, t:教師データ\n",
    "    def loss(self, x, t):\n",
    "        y = self.predict(x)\n",
    "        return self.lastLayer.forward(y, t)\n",
    "    def accuracy(self, x, t):\n",
    "        y = self.predict(x)\n",
    "        y = np.argmax(y, axis=1)\n",
    "        if t.ndim != 1: t =np.argmax(t, axis=1)\n",
    "        accuracy = np.sum(y==t)/float(x.shape[0])\n",
    "        return accuracy\n",
    "    def numerical_gradient(self, x, t):\n",
    "        loss_W = lambda W: self.loss(x, t)\n",
    "        grads = {}\n",
    "        grads['W1'] = numerical_grad(loss_W, self.params['W1'])\n",
    "        grads['b1'] = numerical_grad(loss_W, self.params['b1'])\n",
    "        grads['W2'] = numerical_grad(loss_W, self.params['W2'])\n",
    "        grads['b2'] = numerical_grad(loss_W, self.params['b2'])\n",
    "        return grads"
   ]
  },
  {
   "cell_type": "code",
   "execution_count": 60,
   "metadata": {},
   "outputs": [
    {
     "name": "stdout",
     "output_type": "stream",
     "text": [
      "W1:2.1664434174795032e-13\n",
      "b1:8.166336400508567e-13\n",
      "W2:7.831183057712895e-13\n",
      "b2:1.2012613681555707e-10\n"
     ]
    }
   ],
   "source": [
    "import numpy as np\n",
    "from dataset.mnist import load_mnist\n",
    "# データの読み込み\n",
    "(x_train, t_train), (x_test, t_test) = load_mnist(normalize=True, one_hot_label=True)\n",
    "network = TwoLayerNet(input_size=784, hidden_size=50, output_size=10)\n",
    "x_batch = x_train[:3]\n",
    "t_batch = t_train[:3]\n",
    "# 数値微分\n",
    "grad_numerical = network.numerical_gradient(x_batch, t_batch)\n",
    "# Backward\n",
    "#grad_backprop = gradient(x_batch, t_batch)\n",
    "grad_backprop = gradient(network, x_batch, t_batch)\n",
    "for key in grad_numerical.keys():\n",
    "    diff = np.average( np.abs(grad_backprop[key] - grad_numerical[key]) )\n",
    "    print(key + \":\" + str(diff))"
   ]
  },
  {
   "cell_type": "markdown",
   "metadata": {},
   "source": [
    "一番大きな値であってもe-10の精度であるため、すべて十分に小さな値になっていることが確認できる"
   ]
  },
  {
   "cell_type": "code",
   "execution_count": 62,
   "metadata": {},
   "outputs": [
    {
     "name": "stdout",
     "output_type": "stream",
     "text": [
      "0.10913333333333333 0.1071\n",
      "0.9040333333333334 0.9068\n",
      "0.9209166666666667 0.924\n",
      "0.93595 0.936\n",
      "0.9450333333333333 0.9431\n",
      "0.9504833333333333 0.9466\n",
      "0.9567166666666667 0.9516\n",
      "0.96245 0.9566\n",
      "0.9666666666666667 0.9606\n",
      "0.9684333333333334 0.9616\n",
      "0.9715333333333334 0.9644\n",
      "0.9742 0.9679\n",
      "0.97605 0.9685\n",
      "0.9760333333333333 0.9684\n",
      "0.97835 0.9718\n",
      "0.97985 0.9711\n",
      "0.98145 0.9719\n"
     ]
    }
   ],
   "source": [
    "import numpy as np\n",
    "from dataset.mnist import load_mnist\n",
    "# データの読み込み\n",
    "(x_train, t_train), (x_test, t_test) = load_mnist(normalize=True, one_hot_label=True)\n",
    "network = TwoLayerNet(input_size=784, hidden_size=50, output_size=10)\n",
    "iters_num = 10000\n",
    "train_size = x_train.shape[0]\n",
    "batch_size = 100\n",
    "learning_rate = 0.1\n",
    "train_loss_list = []\n",
    "train_acc_list = []\n",
    "test_acc_list = []\n",
    "iter_per_epoch = max(train_size / batch_size, 1)\n",
    "for i in range(iters_num):\n",
    "    batch_mask = np.random.choice(train_size, batch_size)\n",
    "    x_batch = x_train[batch_mask]\n",
    "    t_batch = t_train[batch_mask]\n",
    "    # 勾配\n",
    "    #grad = network.numerical_gradient(x_batch, t_batch)\n",
    "    #grad = gradient(x_batch, t_batch)\n",
    "    grad = gradient(network, x_batch, t_batch)\n",
    "    # 更新\n",
    "    for key in ('W1', 'b1', 'W2', 'b2'):\n",
    "        network.params[key] -= learning_rate * grad[key]\n",
    "    loss = network.loss(x_batch, t_batch)\n",
    "    train_loss_list.append(loss)\n",
    "    if i % iter_per_epoch == 0:\n",
    "        train_acc = network.accuracy(x_train, t_train)\n",
    "        test_acc = network.accuracy(x_test, t_test)\n",
    "        train_acc_list.append(train_acc)\n",
    "        test_acc_list.append(test_acc)\n",
    "        print(train_acc, test_acc)"
   ]
  },
  {
   "cell_type": "markdown",
   "metadata": {},
   "source": [
    "最終的に訓練データでは98%、テストデータでも97%の正確率であるため、十分な精度があるといえる。２つの差も約１％であるため過学習になっていないため、学習は成功していると考えられる。"
   ]
  },
  {
   "cell_type": "markdown",
   "metadata": {},
   "source": [
    "感想\\\n",
    "バックプロパゲーションについておおむね理解ができた。入力がnumpyの配列のとき直感的な理解が難しいのでイメージできるようにしたい。"
   ]
  },
  {
   "cell_type": "markdown",
   "metadata": {},
   "source": [
    "参考文献\\\n",
    "ゼロから始めるDeepLearning　第５章「誤差逆伝播法」"
   ]
  }
 ],
 "metadata": {
  "kernelspec": {
   "display_name": "Python 3",
   "language": "python",
   "name": "python3"
  },
  "language_info": {
   "codemirror_mode": {
    "name": "ipython",
    "version": 3
   },
   "file_extension": ".py",
   "mimetype": "text/x-python",
   "name": "python",
   "nbconvert_exporter": "python",
   "pygments_lexer": "ipython3",
   "version": "3.7.4"
  }
 },
 "nbformat": 4,
 "nbformat_minor": 2
}
