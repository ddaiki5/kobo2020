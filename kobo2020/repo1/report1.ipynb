{
 "cells": [
  {
   "cell_type": "code",
   "execution_count": 2,
   "metadata": {},
   "outputs": [
    {
     "name": "stdout",
     "output_type": "stream",
     "text": [
      "AND\n",
      "(0, 0)->0\n",
      "(1, 0)->0\n",
      "(0, 1)->0\n",
      "(1, 1)->1\n",
      "NAND\n",
      "(0, 0)->1\n",
      "(1, 0)->1\n",
      "(0, 1)->1\n",
      "(1, 1)->0\n",
      "OR\n",
      "(0, 0)->0\n",
      "(1, 0)->1\n",
      "(0, 1)->1\n",
      "(1, 1)->1\n",
      "XOR\n",
      "(0, 0)->0\n",
      "(1, 0)->1\n",
      "(0, 1)->1\n",
      "(1, 1)->0\n"
     ]
    }
   ],
   "source": [
    "import numpy as np\n",
    "\n",
    "def AND(x1, x2):\n",
    "    x = np.array([x1, x2])   #input\n",
    "    w = np.array([0.5, 0.5]) #weight\n",
    "    b = -0.7                 #bias\n",
    "    y = np.sum(w * x) + b    \n",
    "    if y<= 0:\n",
    "        return 0\n",
    "    else:\n",
    "        return 1\n",
    "    \n",
    "def NAND(x1, x2):\n",
    "    x = np.array([x1, x2])     #input\n",
    "    w = np.array([-0.5, -0.5]) #weight\n",
    "    b = 0.7                    #bias\n",
    "    y = np.sum(w * x)+ b\n",
    "    if y<= 0:\n",
    "        return 0\n",
    "    else:\n",
    "        return 1\n",
    "    \n",
    "def OR(x1, x2):\n",
    "    x = np.array([x1, x2])   #input\n",
    "    w = np.array([0.5, 0.5]) #weight\n",
    "    b = -0.3                 #bias\n",
    "    y = np.sum(w * x) + b\n",
    "    if y<=0:\n",
    "        return 0\n",
    "    else:\n",
    "        return 1\n",
    "    \n",
    "def XOR(x1, x2): \n",
    "    s1 = NAND(x1, x2) \n",
    "    s2 = OR(x1, x2)   \n",
    "    return AND(s1, s2)\n",
    "\n",
    "if __name__ == '__main__': #コンソールからの出力のみ\n",
    "    print(\"AND\")\n",
    "    for xs  in [(0, 0), (1, 0), (0, 1), (1, 1)]:\n",
    "        out = AND(xs[0], xs[1])\n",
    "        print(str(xs) + \"->\" + str(out))\n",
    "    print(\"NAND\")\n",
    "    for xs  in [(0, 0), (1, 0), (0, 1), (1, 1)]:\n",
    "        out = NAND(xs[0], xs[1])\n",
    "        print(str(xs) + \"->\" + str(out))\n",
    "    print(\"OR\")\n",
    "    for xs  in [(0, 0), (1, 0), (0, 1), (1, 1)]:\n",
    "        out = OR(xs[0], xs[1])\n",
    "        print(str(xs) + \"->\" + str(out))  \n",
    "    print(\"XOR\")\n",
    "    for xs  in [(0, 0), (1, 0), (0, 1), (1, 1)]:\n",
    "        out = XOR(xs[0], xs[1])\n",
    "        print(str(xs) + \"->\" + str(out))"
   ]
  },
  {
   "cell_type": "markdown",
   "metadata": {},
   "source": [
    "感想  \n",
    "すべての回路はNANDで表せるというのは昔本で読んでいた時は理解できませんでしたが、論理設計を学んでからだと理解できました。ニューロンの層の積み重ねで非線形の関数も表せるようになるのは面白かったです。"
   ]
  },
  {
   "cell_type": "markdown",
   "metadata": {},
   "source": [
    "参考文献  \n",
    "ゼロから作るDeepLearning　2章パーセプトロン"
   ]
  }
 ],
 "metadata": {
  "kernelspec": {
   "display_name": "Python 3",
   "language": "python",
   "name": "python3"
  },
  "language_info": {
   "codemirror_mode": {
    "name": "ipython",
    "version": 3
   },
   "file_extension": ".py",
   "mimetype": "text/x-python",
   "name": "python",
   "nbconvert_exporter": "python",
   "pygments_lexer": "ipython3",
   "version": "3.7.4"
  }
 },
 "nbformat": 4,
 "nbformat_minor": 2
}
