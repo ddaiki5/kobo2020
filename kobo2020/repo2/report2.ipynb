{
 "cells": [
  {
   "cell_type": "markdown",
   "metadata": {},
   "source": [
    "Sigmoid関数とSoftmax関数の実装"
   ]
  },
  {
   "cell_type": "code",
   "execution_count": 2,
   "metadata": {},
   "outputs": [],
   "source": [
    "import numpy as np\n",
    "def sigmoid(x):\n",
    "    return 1 / (1 + np.exp(-x))\n",
    "\n",
    "def softMax(x):\n",
    "    exp_x = np.exp(x)\n",
    "    exp_x_sum = np.sum(exp_a)\n",
    "    return exp_x/exp_x_sum"
   ]
  },
  {
   "cell_type": "markdown",
   "metadata": {},
   "source": [
    "３層のNNの実装"
   ]
  },
  {
   "cell_type": "code",
   "execution_count": 7,
   "metadata": {},
   "outputs": [
    {
     "name": "stdout",
     "output_type": "stream",
     "text": [
      "[[0.31682708 0.69627909]]\n"
     ]
    }
   ],
   "source": [
    "def init_network():\n",
    "    network={}\n",
    "    network['W1'] = np.array([[0.1, 0.3, 0.5], [0.2, 0.4, 0.6]])\n",
    "    network['b1'] = np.array([[0.1, 0.2, 0.3]])\n",
    "    network['W2'] = np.array([[0.1, 0.4], [0.2, 0.5], [0.3, 0.6]])\n",
    "    network['b2'] = np.array([[0.1, 0.2]])\n",
    "    network['W3'] = np.array([[0.1, 0.3], [0.2, 0.4]])\n",
    "    network['b3'] = np.array([[0.1, 0.2]])\n",
    "    return network\n",
    "\n",
    "def forward(network, x):\n",
    "    # layer 1\n",
    "    W1=network['W1']\n",
    "    b1=network['b1']\n",
    "    a1=np.dot(x,W1)+b1\n",
    "    z1=sigmoid(a1)\n",
    "    \n",
    "    # layer 2\n",
    "    W2=network['W2']\n",
    "    b2=network['b2']\n",
    "    a2=np.dot(z1, W2)+b2\n",
    "    z2=sigmoid(a2)\n",
    "    \n",
    "    # layer 3\n",
    "    W3=network['W3']\n",
    "    b3=network['b3']\n",
    "    a3=np.dot(z2, W3)+b3\n",
    "    y=a3\n",
    "    \n",
    "    # output\n",
    "    return y\n",
    "\n",
    "network = init_network()\n",
    "x=np.array([1.0,0.5])\n",
    "y=forward(network,x)\n",
    "print(y) #[0.31682708 0.69627909]"
   ]
  },
  {
   "cell_type": "markdown",
   "metadata": {},
   "source": [
    "バッチ処理"
   ]
  },
  {
   "cell_type": "code",
   "execution_count": 29,
   "metadata": {},
   "outputs": [],
   "source": [
    "import numpy as np\n",
    "import random  \n",
    "network = init_network()\n",
    "batch_size = 16\n",
    "x=np.random.rand(1000,2)\n",
    "for i in range(0,len(x),batch_size):\n",
    "    x_batch = x[i:i+batch_size]\n",
    "    y_batch = forward(network,x_batch)"
   ]
  },
  {
   "cell_type": "code",
   "execution_count": 30,
   "metadata": {},
   "outputs": [
    {
     "data": {
      "text/plain": [
       "(1000, 2)"
      ]
     },
     "execution_count": 30,
     "metadata": {},
     "output_type": "execute_result"
    }
   ],
   "source": [
    "x.shape "
   ]
  },
  {
   "cell_type": "markdown",
   "metadata": {},
   "source": [
    "xは1000行2列の行列"
   ]
  },
  {
   "cell_type": "code",
   "execution_count": 32,
   "metadata": {},
   "outputs": [
    {
     "data": {
      "text/plain": [
       "(2,)"
      ]
     },
     "execution_count": 32,
     "metadata": {},
     "output_type": "execute_result"
    }
   ],
   "source": [
    "x[0].shape"
   ]
  },
  {
   "cell_type": "code",
   "execution_count": 33,
   "metadata": {},
   "outputs": [
    {
     "data": {
      "text/plain": [
       "array([[0.52592021, 0.99970368],\n",
       "       [0.89196032, 0.46603786],\n",
       "       [0.76677459, 0.96804063],\n",
       "       ...,\n",
       "       [0.65295821, 0.0667835 ],\n",
       "       [0.87562934, 0.1837645 ],\n",
       "       [0.71593092, 0.22500995]])"
      ]
     },
     "execution_count": 33,
     "metadata": {},
     "output_type": "execute_result"
    }
   ],
   "source": [
    "x"
   ]
  },
  {
   "cell_type": "code",
   "execution_count": 34,
   "metadata": {},
   "outputs": [
    {
     "data": {
      "text/plain": [
       "array([[0.52592021, 0.99970368],\n",
       "       [0.89196032, 0.46603786],\n",
       "       [0.76677459, 0.96804063],\n",
       "       [0.86474359, 0.10554863],\n",
       "       [0.33547394, 0.10491013],\n",
       "       [0.14699263, 0.14270444],\n",
       "       [0.44802424, 0.34848792],\n",
       "       [0.23641627, 0.42123804],\n",
       "       [0.94095255, 0.30709662],\n",
       "       [0.32664406, 0.38483573],\n",
       "       [0.18598075, 0.485633  ],\n",
       "       [0.15523175, 0.55621103],\n",
       "       [0.10606148, 0.34837015],\n",
       "       [0.13281913, 0.73133696],\n",
       "       [0.46195187, 0.71205662],\n",
       "       [0.67417557, 0.58525723]])"
      ]
     },
     "execution_count": 34,
     "metadata": {},
     "output_type": "execute_result"
    }
   ],
   "source": [
    "x[0:0+batch_size]"
   ]
  },
  {
   "cell_type": "markdown",
   "metadata": {},
   "source": [
    "x[0]からx[15]までの16行2列の行列　"
   ]
  },
  {
   "cell_type": "code",
   "execution_count": 26,
   "metadata": {},
   "outputs": [
    {
     "data": {
      "text/plain": [
       "array([[0.3127398 , 0.68719056],\n",
       "       [0.31539014, 0.69307831],\n",
       "       [0.31506784, 0.69235737],\n",
       "       [0.31903779, 0.70118995],\n",
       "       [0.31426406, 0.69057613],\n",
       "       [0.31510546, 0.69244927],\n",
       "       [0.31454464, 0.69119673],\n",
       "       [0.31560079, 0.69355559],\n",
       "       [0.31347312, 0.68882115],\n",
       "       [0.31558588, 0.69351731],\n",
       "       [0.3130645 , 0.68791543],\n",
       "       [0.31146532, 0.68437339],\n",
       "       [0.31788454, 0.69862567],\n",
       "       [0.31826722, 0.6994752 ],\n",
       "       [0.31428517, 0.69062161],\n",
       "       [0.31093107, 0.68317677]])"
      ]
     },
     "execution_count": 26,
     "metadata": {},
     "output_type": "execute_result"
    }
   ],
   "source": [
    "forward(network,x[0:0+batch_size])"
   ]
  },
  {
   "cell_type": "code",
   "execution_count": 36,
   "metadata": {},
   "outputs": [
    {
     "data": {
      "text/plain": [
       "array([[0.31764356, 0.69808238]])"
      ]
     },
     "execution_count": 36,
     "metadata": {},
     "output_type": "execute_result"
    }
   ],
   "source": [
    "forward(network, x[0])"
   ]
  },
  {
   "cell_type": "markdown",
   "metadata": {},
   "source": [
    "16個のデータをまとめて計算したが、それぞれの計算に影響はでていないことがわかる。"
   ]
  },
  {
   "cell_type": "code",
   "execution_count": null,
   "metadata": {},
   "outputs": [],
   "source": []
  },
  {
   "cell_type": "markdown",
   "metadata": {},
   "source": [
    "感想  \n",
    "ニューラルネットワークの原型ができた。バッチという言葉は聞いたことがあったが、詳しく知らなかったので実際に試してみて理解できた。おそらく次は学習に入るので楽しみです。"
   ]
  },
  {
   "cell_type": "markdown",
   "metadata": {},
   "source": [
    "参考文献  \n",
    "ゼロから作るDeepLearning　３章　ニューラルネットワーク"
   ]
  }
 ],
 "metadata": {
  "kernelspec": {
   "display_name": "Python 3",
   "language": "python",
   "name": "python3"
  },
  "language_info": {
   "codemirror_mode": {
    "name": "ipython",
    "version": 3
   },
   "file_extension": ".py",
   "mimetype": "text/x-python",
   "name": "python",
   "nbconvert_exporter": "python",
   "pygments_lexer": "ipython3",
   "version": "3.7.4"
  }
 },
 "nbformat": 4,
 "nbformat_minor": 2
}
