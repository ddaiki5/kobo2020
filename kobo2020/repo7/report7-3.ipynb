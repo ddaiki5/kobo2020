{
  "nbformat": 4,
  "nbformat_minor": 0,
  "metadata": {
    "colab": {
      "name": "Untitled6.ipynb",
      "provenance": []
    },
    "kernelspec": {
      "name": "python3",
      "display_name": "Python 3"
    },
    "accelerator": "GPU"
  },
  "cells": [
    {
      "cell_type": "markdown",
      "metadata": {
        "id": "zxAp9_mfo0Xk",
        "colab_type": "text"
      },
      "source": [
        "RNNレイヤの実装"
      ]
    },
    {
      "cell_type": "code",
      "metadata": {
        "id": "AXUVrgN5o3aG",
        "colab_type": "code",
        "colab": {}
      },
      "source": [
        "class RNN:\n",
        "  def __init__(self, Wx, Wh, b):\n",
        "    self.params = [Wx, Wh, b]\n",
        "    self.grads = [np.zeros_like(Wx), np.zeros_like(Wh), np.zeros_like(b)]\n",
        "    self.cache = None\n",
        "\n",
        "  def forward(self, x, h_prev):\n",
        "    Wx, Wh, b = self.params\n",
        "    t = np.dot(h_prev, Wh) + np.dot(x, Wx) + b\n",
        "    h_next = np.tanh(t)\n",
        "\n",
        "    self.cache = (x, h_prev, h_next)\n",
        "    return h_next\n",
        "\n",
        "  def backward(self, dh_next):\n",
        "    Wx, Wh, b = self.params\n",
        "    x, h_prev, h_next = self.cache\n",
        "    dt = dh_next * (1 - h_next ** 2)\n",
        "    db = np.sum(dt, axis = 0)\n",
        "    dWh = np.dot(h_prev.T, dt)\n",
        "    dh_prev = np.dot(dt, Wh.T)\n",
        "    dWx = np.dot(x.T, dt)\n",
        "    dx = np.dot(dt, Wx.T)\n",
        "    \n",
        "    self.grads[0][...] = dWx\n",
        "    self.grads[1][...] = dWh\n",
        "    self.grads[2][...] = db\n",
        "    return dx, dh_prev"
      ],
      "execution_count": 1,
      "outputs": []
    },
    {
      "cell_type": "markdown",
      "metadata": {
        "id": "eEF0QZkhfoeD",
        "colab_type": "text"
      },
      "source": [
        "Time　RNNレイヤの実装"
      ]
    },
    {
      "cell_type": "code",
      "metadata": {
        "id": "MqwMGxtMp5i9",
        "colab_type": "code",
        "colab": {}
      },
      "source": [
        "class TimeRNN:\n",
        "  def __init__(self, Wx, Wh, b, stateful=False):\n",
        "    self.params = [Wx, Wh, b]\n",
        "    self.params = [np.zeros_like(Wx), np.zeros_like(Wh), np.zeros_like(b)]\n",
        "    self.layers = None\n",
        "\n",
        "    self.h, self.dh = None, None\n",
        "    self.stateful = stateful\n",
        "\n",
        "  def set_state(self, h):\n",
        "    self.h = h\n",
        "\n",
        "  def reset_state(self):\n",
        "    self.h = None\n",
        "\n",
        "  def forward(self, xs):\n",
        "    Wx, Wh, b = self.params\n",
        "    N, T, D = xs.shape\n",
        "    D, H = Wx.shape\n",
        "\n",
        "    self.layers = []\n",
        "    hs = np.empty((N, T, H), dtype='f')\n",
        "\n",
        "    for t in range(T):\n",
        "      layer = RNN(*self.params)\n",
        "      self.h = layer.forward(xs[:, t, :], self.h)\n",
        "      hs[:, t, :] = self.h\n",
        "      self.layers.append(layer)\n",
        "    return hs\n",
        "\n",
        "  def backward(self, dhs):\n",
        "    Wx, Wh, b = self.params\n",
        "    N, T, H = dhs.shape\n",
        "    D, H = Wx.shape\n",
        "\n",
        "    dxs = np.empty((N, T, D), dtype='f')\n",
        "    dh = 0\n",
        "    grads = [0, 0, 0]\n",
        "    for t in reversed(range(T)):\n",
        "      layer = self.layers[t]\n",
        "      dx, dh = layer.backward(dhs[:, t, :] + dh)\n",
        "      dxs[:, t, :] = dx\n",
        "      for i, grad in enumerate(layer.grads):\n",
        "        grads[i] += grad\n",
        "    for i, grad in enumerate(grads):\n",
        "      self.grads[i][...] = grad\n",
        "    self.dh = dh\n",
        "\n",
        "    return dxs\n",
        "      \n",
        "\n"
      ],
      "execution_count": 2,
      "outputs": []
    },
    {
      "cell_type": "code",
      "metadata": {
        "id": "f1OuVLWQv6ch",
        "colab_type": "code",
        "colab": {
          "base_uri": "https://localhost:8080/",
          "height": 34
        },
        "outputId": "4a494a9f-307d-400e-808b-a5645735c9c5"
      },
      "source": [
        "from google.colab import drive\n",
        "drive.mount('/content/drive')\n",
        "dir_path = '/content/drive/My Drive/Colab Notebooks/'\n",
        "import os\n",
        "os.chdir(dir_path)"
      ],
      "execution_count": 8,
      "outputs": [
        {
          "output_type": "stream",
          "text": [
            "Drive already mounted at /content/drive; to attempt to forcibly remount, call drive.mount(\"/content/drive\", force_remount=True).\n"
          ],
          "name": "stdout"
        }
      ]
    },
    {
      "cell_type": "code",
      "metadata": {
        "id": "f4tgYRpNB0St",
        "colab_type": "code",
        "colab": {}
      },
      "source": [
        "import numpy as np\n",
        "from common.time_layers import *"
      ],
      "execution_count": 9,
      "outputs": []
    },
    {
      "cell_type": "markdown",
      "metadata": {
        "id": "fJCZl8TcfyhN",
        "colab_type": "text"
      },
      "source": [
        "SimpleRnnlmクラスの実装"
      ]
    },
    {
      "cell_type": "code",
      "metadata": {
        "id": "TNNhLXs6CEnv",
        "colab_type": "code",
        "colab": {}
      },
      "source": [
        "class SimpleRnnlm:\n",
        "  def __init__(self, vocab_size, wordvec_size, hidden_size):\n",
        "    V, D, H = vocab_size, wordvec_size, hidden_size\n",
        "    rn = np.random.randn\n",
        "\n",
        "    embed_W = (rn(V, D)/100).astype('f')\n",
        "    rnn_Wx = (rn(D, H)/np.sqrt(D)).astype('f')\n",
        "    rnn_Wh = (rn(H, H)/np.sqrt(H)).astype('f')\n",
        "    rnn_b = np.zeros(H).astype('f')\n",
        "    affine_W = (rn(H, V)/np.sqrt(H)).astype('f')\n",
        "    affine_b = np.zeros(V).astype('f')\n",
        "\n",
        "    self.layers = [\n",
        "        TimeEmbedding(embed_W),\n",
        "        TimeRNN(rnn_Wx, rnn_Wh, rnn_b, stateful=True),\n",
        "        TimeAffine(affine_W, affine_b)\n",
        "    ]\n",
        "    self.loss_layer = TimeSoftmaxWithLoss()\n",
        "    self.rnn_layer = self.layers[1]\n",
        "\n",
        "    self.params, self.grads = [], []\n",
        "    for layer in self.layers:\n",
        "      self.params += layer.params\n",
        "      self.grads += layer.grads\n",
        "\n",
        "  def forward(self, xs, ts):\n",
        "    for layer in self.layers:\n",
        "      xs = layer.forward(xs)\n",
        "    loss = self.loss_layer.forward(xs, ts)\n",
        "    return loss\n",
        "\n",
        "  def backward(self, dout = 1):\n",
        "    dout = self.loss_layer.backward(dout)\n",
        "    for layer in reversed(self.layers):\n",
        "      dout = layer.backward(dout)\n",
        "    return dout\n",
        "\n",
        "  def reset_state(self):\n",
        "    self.rnn_layer.reset_state()"
      ],
      "execution_count": 13,
      "outputs": []
    },
    {
      "cell_type": "markdown",
      "metadata": {
        "id": "U4Wh2ZupgArn",
        "colab_type": "text"
      },
      "source": [
        "RNNLMの学習"
      ]
    },
    {
      "cell_type": "code",
      "metadata": {
        "id": "e-V_kMweE5kS",
        "colab_type": "code",
        "colab": {}
      },
      "source": [
        "import matplotlib.pyplot as plt\n",
        "import numpy as np\n",
        "from common.optimizer import SGD\n",
        "from dataset import ptb"
      ],
      "execution_count": 14,
      "outputs": []
    },
    {
      "cell_type": "code",
      "metadata": {
        "id": "tHqVZAt-dQQ2",
        "colab_type": "code",
        "colab": {
          "base_uri": "https://localhost:8080/",
          "height": 1000
        },
        "outputId": "d3523f6e-b3ff-4108-b9f4-1dc2a2dd2031"
      },
      "source": [
        "#パラメータの設定\n",
        "batch_size = 10\n",
        "wordvec_size = 100\n",
        "hidden_size = 100\n",
        "time_size = 5\n",
        "lr = 0.1\n",
        "max_epoch = 100\n",
        "#学習ダータ読み込み\n",
        "corpus, word_to_id, id_to_word = ptb.load_data('train')\n",
        "corpus_size = 1000\n",
        "corpus = corpus[:corpus_size]\n",
        "vocab_size = int(max(corpus)+1)\n",
        "\n",
        "xs = corpus[:-1]\n",
        "ts = corpus[1:]\n",
        "data_size = len(xs)\n",
        "print('corpus size: %d, vocabulary size: %d,' % (corpus_size, vocab_size))\n",
        "#学習時の変数\n",
        "max_iters = data_size // (batch_size * time_size)\n",
        "time_idx = 0\n",
        "total_loss = 0\n",
        "loss_count = 0\n",
        "ppl_list = []\n",
        "#モデルの生成\n",
        "model = SimpleRnnlm(vocab_size, wordvec_size, hidden_size)\n",
        "optimizer = SGD(lr)\n",
        "#ミニバッチ初期化\n",
        "jump = (corpus_size - 1) // batch_size\n",
        "offsets = [i * jump for i in range(batch_size)]\n",
        "\n",
        "for epoch in range(max_epoch):\n",
        "  for iter in range(max_iters):\n",
        "    batch_x = np.empty((batch_size, time_size), dtype=\"i\")\n",
        "    batch_t = np.empty((batch_size, time_size), dtype=\"i\")\n",
        "    for t in range(time_size):\n",
        "      for i, offset in enumerate(offsets):\n",
        "        batch_x[i, t] = xs[(offset + time_idx) % data_size]\n",
        "        batch_t[i, t] = ts[(offset + time_idx) % data_size]\n",
        "      time_idx += 1\n",
        "    #勾配とパラメータの更新\n",
        "    loss = model.forward(batch_x, batch_t)\n",
        "    model.backward()\n",
        "    optimizer.update(model.params, model.grads)\n",
        "    total_loss += loss\n",
        "    loss_count += 1\n",
        "\n",
        "    #エポックごとの評価\n",
        "  ppl = np.exp(total_loss / loss_count)\n",
        "  print('| epoch %d | perplexity %.2f'\n",
        "        % (epoch+1, ppl))\n",
        "  ppl_list.append(float(ppl))\n",
        "  total_loss, loss_count = 0, 0"
      ],
      "execution_count": 18,
      "outputs": [
        {
          "output_type": "stream",
          "text": [
            "corpus size: 1000, vocabulary size: 418,\n",
            "| epoch 1 | perplexity 400.15\n",
            "| epoch 2 | perplexity 278.80\n",
            "| epoch 3 | perplexity 226.96\n",
            "| epoch 4 | perplexity 217.23\n",
            "| epoch 5 | perplexity 208.38\n",
            "| epoch 6 | perplexity 202.92\n",
            "| epoch 7 | perplexity 198.81\n",
            "| epoch 8 | perplexity 197.36\n",
            "| epoch 9 | perplexity 192.11\n",
            "| epoch 10 | perplexity 192.24\n",
            "| epoch 11 | perplexity 189.35\n",
            "| epoch 12 | perplexity 192.38\n",
            "| epoch 13 | perplexity 189.44\n",
            "| epoch 14 | perplexity 189.92\n",
            "| epoch 15 | perplexity 189.47\n",
            "| epoch 16 | perplexity 186.01\n",
            "| epoch 17 | perplexity 183.33\n",
            "| epoch 18 | perplexity 179.51\n",
            "| epoch 19 | perplexity 180.76\n",
            "| epoch 20 | perplexity 181.18\n",
            "| epoch 21 | perplexity 178.86\n",
            "| epoch 22 | perplexity 174.49\n",
            "| epoch 23 | perplexity 173.75\n",
            "| epoch 24 | perplexity 172.94\n",
            "| epoch 25 | perplexity 169.34\n",
            "| epoch 26 | perplexity 168.76\n",
            "| epoch 27 | perplexity 163.50\n",
            "| epoch 28 | perplexity 160.59\n",
            "| epoch 29 | perplexity 156.96\n",
            "| epoch 30 | perplexity 151.43\n",
            "| epoch 31 | perplexity 151.46\n",
            "| epoch 32 | perplexity 145.17\n",
            "| epoch 33 | perplexity 145.76\n",
            "| epoch 34 | perplexity 139.42\n",
            "| epoch 35 | perplexity 139.28\n",
            "| epoch 36 | perplexity 131.24\n",
            "| epoch 37 | perplexity 129.11\n",
            "| epoch 38 | perplexity 126.14\n",
            "| epoch 39 | perplexity 118.83\n",
            "| epoch 40 | perplexity 115.22\n",
            "| epoch 41 | perplexity 114.58\n",
            "| epoch 42 | perplexity 108.69\n",
            "| epoch 43 | perplexity 103.41\n",
            "| epoch 44 | perplexity 98.89\n",
            "| epoch 45 | perplexity 95.31\n",
            "| epoch 46 | perplexity 92.37\n",
            "| epoch 47 | perplexity 87.84\n",
            "| epoch 48 | perplexity 81.72\n",
            "| epoch 49 | perplexity 80.20\n",
            "| epoch 50 | perplexity 76.10\n",
            "| epoch 51 | perplexity 73.64\n",
            "| epoch 52 | perplexity 69.75\n",
            "| epoch 53 | perplexity 66.76\n",
            "| epoch 54 | perplexity 64.15\n",
            "| epoch 55 | perplexity 62.33\n",
            "| epoch 56 | perplexity 58.00\n",
            "| epoch 57 | perplexity 54.12\n",
            "| epoch 58 | perplexity 50.96\n",
            "| epoch 59 | perplexity 48.90\n",
            "| epoch 60 | perplexity 46.15\n",
            "| epoch 61 | perplexity 44.03\n",
            "| epoch 62 | perplexity 41.49\n",
            "| epoch 63 | perplexity 37.37\n",
            "| epoch 64 | perplexity 38.47\n",
            "| epoch 65 | perplexity 35.86\n",
            "| epoch 66 | perplexity 33.01\n",
            "| epoch 67 | perplexity 31.94\n",
            "| epoch 68 | perplexity 29.45\n",
            "| epoch 69 | perplexity 28.17\n",
            "| epoch 70 | perplexity 27.94\n",
            "| epoch 71 | perplexity 26.26\n",
            "| epoch 72 | perplexity 24.11\n",
            "| epoch 73 | perplexity 22.75\n",
            "| epoch 74 | perplexity 21.92\n",
            "| epoch 75 | perplexity 21.44\n",
            "| epoch 76 | perplexity 19.08\n",
            "| epoch 77 | perplexity 18.71\n",
            "| epoch 78 | perplexity 16.54\n",
            "| epoch 79 | perplexity 15.58\n",
            "| epoch 80 | perplexity 15.27\n",
            "| epoch 81 | perplexity 14.81\n",
            "| epoch 82 | perplexity 14.00\n",
            "| epoch 83 | perplexity 12.58\n",
            "| epoch 84 | perplexity 12.33\n",
            "| epoch 85 | perplexity 11.52\n",
            "| epoch 86 | perplexity 11.43\n",
            "| epoch 87 | perplexity 11.46\n",
            "| epoch 88 | perplexity 10.39\n",
            "| epoch 89 | perplexity 9.40\n",
            "| epoch 90 | perplexity 8.98\n",
            "| epoch 91 | perplexity 8.90\n",
            "| epoch 92 | perplexity 8.35\n",
            "| epoch 93 | perplexity 8.02\n",
            "| epoch 94 | perplexity 7.99\n",
            "| epoch 95 | perplexity 7.53\n",
            "| epoch 96 | perplexity 6.87\n",
            "| epoch 97 | perplexity 6.71\n",
            "| epoch 98 | perplexity 6.18\n",
            "| epoch 99 | perplexity 6.25\n",
            "| epoch 100 | perplexity 6.05\n"
          ],
          "name": "stdout"
        }
      ]
    },
    {
      "cell_type": "code",
      "metadata": {
        "id": "JO3eB1VD78HX",
        "colab_type": "code",
        "colab": {
          "base_uri": "https://localhost:8080/",
          "height": 279
        },
        "outputId": "7681d695-b3a0-4173-e803-08e26a478df6"
      },
      "source": [
        "# グラフの描画\n",
        "x = np.arange(len(ppl_list))\n",
        "plt.plot(x, ppl_list, label='train')\n",
        "plt.xlabel('epochs')\n",
        "plt.ylabel('perplexity')\n",
        "plt.show()"
      ],
      "execution_count": 19,
      "outputs": [
        {
          "output_type": "display_data",
          "data": {
            "image/png": "[encoded data removed]",
            "text/plain": [
              "<Figure size 432x288 with 1 Axes>"
            ]
          },
          "metadata": {
            "tags": [],
            "needs_background": "light"
          }
        }
      ]
    },
    {
      "cell_type": "markdown",
      "metadata": {
        "id": "GjyXzPkKeKGI",
        "colab_type": "text"
      },
      "source": [
        "パープレキシティが確かに減少していることがグラフから確認できる。400ほどあった分岐数が、６程度まで減ったことでより予測の精度が高くなったといえる。"
      ]
    },
    {
      "cell_type": "code",
      "metadata": {
        "id": "X_0TxXkIlCDz",
        "colab_type": "code",
        "colab": {
          "base_uri": "https://localhost:8080/",
          "height": 1000
        },
        "outputId": "2cc1a94c-79a4-48b4-d380-95ec52b897d4"
      },
      "source": [
        "from common.trainer import RnnlmTrainer\n",
        "\n",
        "model = SimpleRnnlm(vocab_size, wordvec_size, hidden_size)\n",
        "optimizer = SGD(lr)\n",
        "trainer = RnnlmTrainer(model, optimizer)\n",
        "\n",
        "trainer.fit(xs, ts, max_epoch, batch_size, time_size)"
      ],
      "execution_count": 20,
      "outputs": [
        {
          "output_type": "stream",
          "text": [
            "| epoch 1 |  iter 1 / 19 | time 0[s] | perplexity 419.23\n",
            "| epoch 2 |  iter 1 / 19 | time 0[s] | perplexity 396.74\n",
            "| epoch 3 |  iter 1 / 19 | time 0[s] | perplexity 287.21\n",
            "| epoch 4 |  iter 1 / 19 | time 0[s] | perplexity 224.94\n",
            "| epoch 5 |  iter 1 / 19 | time 0[s] | perplexity 211.05\n",
            "| epoch 6 |  iter 1 / 19 | time 0[s] | perplexity 209.90\n",
            "| epoch 7 |  iter 1 / 19 | time 0[s] | perplexity 202.50\n",
            "| epoch 8 |  iter 1 / 19 | time 0[s] | perplexity 201.03\n",
            "| epoch 9 |  iter 1 / 19 | time 0[s] | perplexity 194.93\n",
            "| epoch 10 |  iter 1 / 19 | time 0[s] | perplexity 190.23\n",
            "| epoch 11 |  iter 1 / 19 | time 1[s] | perplexity 191.69\n",
            "| epoch 12 |  iter 1 / 19 | time 1[s] | perplexity 187.87\n",
            "| epoch 13 |  iter 1 / 19 | time 1[s] | perplexity 191.33\n",
            "| epoch 14 |  iter 1 / 19 | time 1[s] | perplexity 185.68\n",
            "| epoch 15 |  iter 1 / 19 | time 1[s] | perplexity 185.60\n",
            "| epoch 16 |  iter 1 / 19 | time 1[s] | perplexity 188.77\n",
            "| epoch 17 |  iter 1 / 19 | time 1[s] | perplexity 186.73\n",
            "| epoch 18 |  iter 1 / 19 | time 1[s] | perplexity 182.59\n",
            "| epoch 19 |  iter 1 / 19 | time 1[s] | perplexity 178.45\n",
            "| epoch 20 |  iter 1 / 19 | time 1[s] | perplexity 178.08\n",
            "| epoch 21 |  iter 1 / 19 | time 1[s] | perplexity 175.43\n",
            "| epoch 22 |  iter 1 / 19 | time 2[s] | perplexity 173.72\n",
            "| epoch 23 |  iter 1 / 19 | time 2[s] | perplexity 176.28\n",
            "| epoch 24 |  iter 1 / 19 | time 2[s] | perplexity 171.99\n",
            "| epoch 25 |  iter 1 / 19 | time 2[s] | perplexity 165.82\n",
            "| epoch 26 |  iter 1 / 19 | time 2[s] | perplexity 165.31\n",
            "| epoch 27 |  iter 1 / 19 | time 2[s] | perplexity 161.99\n",
            "| epoch 28 |  iter 1 / 19 | time 2[s] | perplexity 162.72\n",
            "| epoch 29 |  iter 1 / 19 | time 2[s] | perplexity 155.92\n",
            "| epoch 30 |  iter 1 / 19 | time 2[s] | perplexity 151.60\n",
            "| epoch 31 |  iter 1 / 19 | time 3[s] | perplexity 148.94\n",
            "| epoch 32 |  iter 1 / 19 | time 3[s] | perplexity 143.06\n",
            "| epoch 33 |  iter 1 / 19 | time 3[s] | perplexity 142.81\n",
            "| epoch 34 |  iter 1 / 19 | time 3[s] | perplexity 141.04\n",
            "| epoch 35 |  iter 1 / 19 | time 3[s] | perplexity 132.35\n",
            "| epoch 36 |  iter 1 / 19 | time 3[s] | perplexity 131.98\n",
            "| epoch 37 |  iter 1 / 19 | time 3[s] | perplexity 130.13\n",
            "| epoch 38 |  iter 1 / 19 | time 3[s] | perplexity 122.01\n",
            "| epoch 39 |  iter 1 / 19 | time 3[s] | perplexity 117.60\n",
            "| epoch 40 |  iter 1 / 19 | time 3[s] | perplexity 112.64\n",
            "| epoch 41 |  iter 1 / 19 | time 4[s] | perplexity 108.40\n",
            "| epoch 42 |  iter 1 / 19 | time 4[s] | perplexity 107.87\n",
            "| epoch 43 |  iter 1 / 19 | time 4[s] | perplexity 101.27\n",
            "| epoch 44 |  iter 1 / 19 | time 4[s] | perplexity 98.03\n",
            "| epoch 45 |  iter 1 / 19 | time 4[s] | perplexity 89.79\n",
            "| epoch 46 |  iter 1 / 19 | time 4[s] | perplexity 88.17\n",
            "| epoch 47 |  iter 1 / 19 | time 4[s] | perplexity 86.29\n",
            "| epoch 48 |  iter 1 / 19 | time 4[s] | perplexity 80.86\n",
            "| epoch 49 |  iter 1 / 19 | time 4[s] | perplexity 77.40\n",
            "| epoch 50 |  iter 1 / 19 | time 4[s] | perplexity 70.78\n",
            "| epoch 51 |  iter 1 / 19 | time 5[s] | perplexity 68.84\n",
            "| epoch 52 |  iter 1 / 19 | time 5[s] | perplexity 65.61\n",
            "| epoch 53 |  iter 1 / 19 | time 5[s] | perplexity 62.84\n",
            "| epoch 54 |  iter 1 / 19 | time 5[s] | perplexity 59.72\n",
            "| epoch 55 |  iter 1 / 19 | time 5[s] | perplexity 57.75\n",
            "| epoch 56 |  iter 1 / 19 | time 5[s] | perplexity 54.42\n",
            "| epoch 57 |  iter 1 / 19 | time 5[s] | perplexity 52.89\n",
            "| epoch 58 |  iter 1 / 19 | time 5[s] | perplexity 47.89\n",
            "| epoch 59 |  iter 1 / 19 | time 5[s] | perplexity 46.15\n",
            "| epoch 60 |  iter 1 / 19 | time 5[s] | perplexity 43.68\n",
            "| epoch 61 |  iter 1 / 19 | time 6[s] | perplexity 41.64\n",
            "| epoch 62 |  iter 1 / 19 | time 6[s] | perplexity 39.11\n",
            "| epoch 63 |  iter 1 / 19 | time 6[s] | perplexity 36.97\n",
            "| epoch 64 |  iter 1 / 19 | time 6[s] | perplexity 35.56\n",
            "| epoch 65 |  iter 1 / 19 | time 6[s] | perplexity 33.06\n",
            "| epoch 66 |  iter 1 / 19 | time 6[s] | perplexity 30.96\n",
            "| epoch 67 |  iter 1 / 19 | time 6[s] | perplexity 30.25\n",
            "| epoch 68 |  iter 1 / 19 | time 6[s] | perplexity 28.84\n",
            "| epoch 69 |  iter 1 / 19 | time 6[s] | perplexity 26.35\n",
            "| epoch 70 |  iter 1 / 19 | time 6[s] | perplexity 24.93\n",
            "| epoch 71 |  iter 1 / 19 | time 7[s] | perplexity 24.41\n",
            "| epoch 72 |  iter 1 / 19 | time 7[s] | perplexity 23.64\n",
            "| epoch 73 |  iter 1 / 19 | time 7[s] | perplexity 21.87\n",
            "| epoch 74 |  iter 1 / 19 | time 7[s] | perplexity 20.26\n",
            "| epoch 75 |  iter 1 / 19 | time 7[s] | perplexity 19.46\n",
            "| epoch 76 |  iter 1 / 19 | time 7[s] | perplexity 17.98\n",
            "| epoch 77 |  iter 1 / 19 | time 7[s] | perplexity 17.04\n",
            "| epoch 78 |  iter 1 / 19 | time 7[s] | perplexity 16.41\n",
            "| epoch 79 |  iter 1 / 19 | time 7[s] | perplexity 15.47\n",
            "| epoch 80 |  iter 1 / 19 | time 7[s] | perplexity 14.64\n",
            "| epoch 81 |  iter 1 / 19 | time 8[s] | perplexity 14.16\n",
            "| epoch 82 |  iter 1 / 19 | time 8[s] | perplexity 12.94\n",
            "| epoch 83 |  iter 1 / 19 | time 8[s] | perplexity 12.40\n",
            "| epoch 84 |  iter 1 / 19 | time 8[s] | perplexity 12.25\n",
            "| epoch 85 |  iter 1 / 19 | time 8[s] | perplexity 11.67\n",
            "| epoch 86 |  iter 1 / 19 | time 8[s] | perplexity 11.14\n",
            "| epoch 87 |  iter 1 / 19 | time 8[s] | perplexity 10.54\n",
            "| epoch 88 |  iter 1 / 19 | time 8[s] | perplexity 9.67\n",
            "| epoch 89 |  iter 1 / 19 | time 8[s] | perplexity 9.60\n",
            "| epoch 90 |  iter 1 / 19 | time 8[s] | perplexity 8.65\n",
            "| epoch 91 |  iter 1 / 19 | time 9[s] | perplexity 8.44\n",
            "| epoch 92 |  iter 1 / 19 | time 9[s] | perplexity 7.98\n",
            "| epoch 93 |  iter 1 / 19 | time 9[s] | perplexity 7.68\n",
            "| epoch 94 |  iter 1 / 19 | time 9[s] | perplexity 7.14\n",
            "| epoch 95 |  iter 1 / 19 | time 9[s] | perplexity 6.96\n",
            "| epoch 96 |  iter 1 / 19 | time 9[s] | perplexity 6.65\n",
            "| epoch 97 |  iter 1 / 19 | time 9[s] | perplexity 6.42\n",
            "| epoch 98 |  iter 1 / 19 | time 9[s] | perplexity 6.16\n",
            "| epoch 99 |  iter 1 / 19 | time 9[s] | perplexity 6.08\n",
            "| epoch 100 |  iter 1 / 19 | time 9[s] | perplexity 5.42\n"
          ],
          "name": "stdout"
        }
      ]
    },
    {
      "cell_type": "code",
      "metadata": {
        "id": "XxkpdvHHtDIz",
        "colab_type": "code",
        "colab": {
          "base_uri": "https://localhost:8080/",
          "height": 279
        },
        "outputId": "0561d11e-89ab-49ff-fd21-52900abba357"
      },
      "source": [
        "# グラフの描画\n",
        "trainer.plot()"
      ],
      "execution_count": 22,
      "outputs": [
        {
          "output_type": "display_data",
          "data": {
            "image/png": "[encoded data removed]",
            "text/plain": [
              "<Figure size 432x288 with 1 Axes>"
            ]
          },
          "metadata": {
            "tags": [],
            "needs_background": "light"
          }
        }
      ]
    },
    {
      "cell_type": "markdown",
      "metadata": {
        "id": "HytmWagFe9eJ",
        "colab_type": "text"
      },
      "source": [
        "感想  \n",
        "RNNの実装をした。理論部分がまだ完全に理解できていないため復習して身につけていきたい。"
      ]
    },
    {
      "cell_type": "markdown",
      "metadata": {
        "id": "C0oKGdZJfh2q",
        "colab_type": "text"
      },
      "source": [
        "参考  \n",
        "ゼロから作るDeepLearning2 5章「リカレントニューラルネットワーク（RNN）」"
      ]
    }
  ]
}